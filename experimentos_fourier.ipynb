{
 "cells": [
  {
   "cell_type": "markdown",
   "id": "176285fa-4dbf-4792-9346-78da6bfa1298",
   "metadata": {},
   "source": [
    "# Experimentos de Fourier"
   ]
  },
  {
   "cell_type": "markdown",
   "id": "096e4bdb-573d-47c4-8705-be1017448a56",
   "metadata": {
    "tags": []
   },
   "source": [
    "## Modelo de Fourier\n",
    "## $$\\dfrac{\\partial T}{\\partial t} = \\alpha \\dfrac{\\partial^2 T}{\\partial x^2}$$\n",
    "\n",
    "## $$q = - \\dfrac{\\partial T}{\\partial x}$$\n",
    "\n",
    "## Con las variables causales\n",
    "### $A = \\dfrac{\\partial T}{\\partial t}, \\quad B = \\dfrac{\\partial^2 T}{\\partial x^2}$\n",
    "### $C = q, \\quad D  = \\dfrac{\\partial T}{\\partial x}, \\quad E = T$"
   ]
  },
  {
   "cell_type": "markdown",
   "id": "bf52c9f4-eb80-4f84-b6d4-841041c84333",
   "metadata": {},
   "source": [
    "La ecuación de transporte esta dada en su forma adimensional por medio de las siguientes variables adimensionales y parámetros:\n",
    "* $T$ es la temperatura\n",
    "* $t$ es el tiempo\n",
    "* $x$ es la dirección espacial x\n",
    "* $q$ es el flujo de calor\n",
    "* El parámetro $\\alpha$ es el número de Fourier $\\alpha = D_0 t_0 L^{-2}$\n",
    "* Con $t_c$ es el tiempo característico, $D$ es la difusividad térmica del material y $L$ es la longitud del material\n",
    "\n",
    "Este problema en particular se va a resolver para dos casos a las condiciones de frontera:\n",
    "\n",
    "Determinista\n",
    "* $\\quad T(x = 1, t) = 1 \\quad$ $T(x = 0, t) = \\mu_\\epsilon$\n",
    "\n",
    "Estocástico\n",
    "* $\\quad T(x = 1, t) = 1 \\quad$ $T(x = 0, t) = \\epsilon(t)$ \n",
    "\n",
    "Con $\\epsilon(t)$ ruido blanco Gaussiano y $\\mu_\\epsilon$ su promedio\n",
    "\n",
    "Y la condición inicial para ambos casos\n",
    "* $T(x, t = 0) = 1$"
   ]
  },
  {
   "cell_type": "markdown",
   "id": "7026449e-eca2-486e-9c9e-77b378ca0cc2",
   "metadata": {},
   "source": [
    "### Importación de bibliotecas y módulos"
   ]
  },
  {
   "cell_type": "code",
   "execution_count": 1,
   "id": "f84e5d68-4c90-4f3d-80b6-10b1ab74f2bc",
   "metadata": {},
   "outputs": [],
   "source": [
    "from IPython import display\n",
    "import ipywidgets\n",
    "import numpy as np               \n",
    "import matplotlib.pyplot as plt  \n",
    "import seaborn as sns\n",
    "from numba import jit\n",
    "import modulo_fourier as mf"
   ]
  },
  {
   "cell_type": "markdown",
   "id": "87d9444a-59d4-4712-bec2-5c8094d360c2",
   "metadata": {},
   "source": [
    "### Opciones de graficación\n",
    "Estética de las gráficas"
   ]
  },
  {
   "cell_type": "code",
   "execution_count": 2,
   "id": "ec110eaa-3dce-471a-9541-7d5967194056",
   "metadata": {},
   "outputs": [],
   "source": [
    "sns.set_style(\"darkgrid\")\n",
    "sns.set_context(\"paper\", font_scale = 1.5)"
   ]
  },
  {
   "cell_type": "markdown",
   "id": "b0c759a1-2b70-42ce-a5f8-90e4cb936a31",
   "metadata": {},
   "source": [
    "## Función de simulación\n",
    "Dependiendo de la frontera, se tiene la simulacion determinista o estocastica"
   ]
  },
  {
   "cell_type": "code",
   "execution_count": 3,
   "id": "62924e6c-5291-42dc-b1cc-1e72d292e5ba",
   "metadata": {},
   "outputs": [],
   "source": [
    "@jit(nopython = True)\n",
    "def simulacion(frontera):\n",
    "    global nx, nt, alfa, dx, dt, xpi\n",
    "    # Condicion inicial\n",
    "    temperatura = np.ones(nx + 1)\n",
    "    # Inicializacion de las series de tiempo\n",
    "    serie_a = np.empty(nt)\n",
    "    serie_b = np.empty(nt)\n",
    "    serie_c = np.empty(nt)\n",
    "    serie_d = np.empty(nt)\n",
    "    serie_e = np.empty(nt)\n",
    "    # Proceso de la simulacion\n",
    "    for n in range(nt):\n",
    "        # Frontera. Al instante n se le asigna el valor correspondiente a la frontera\n",
    "        temperatura[0] = frontera[n]\n",
    "        # Calculo de la Temperatura\n",
    "        temperatura = mf.rungekutta(temperatura, alfa, dx, dt)\n",
    "        # Calculo del flujo de calor\n",
    "        grad_temperatura = mf.ddx(temperatura, dx, full = True)\n",
    "        flujocalor = mf.calc_q(grad_temperatura)\n",
    "        # Calculo del miembros de la ecuacion de transporte\n",
    "        b = mf.d2dx2(temperatura, dx, full = True)\n",
    "        a = alfa * b\n",
    "        # Captura de las series de tiempo\n",
    "        serie_a[n] = a[xpi]\n",
    "        serie_b[n] = b[xpi]\n",
    "        serie_c[n] = flujocalor[xpi]\n",
    "        serie_d[n] = grad_temperatura[xpi]\n",
    "        serie_e[n] = temperatura[xpi]\n",
    "    # Se devuelven las series de tiempo de la simulacion    \n",
    "    return serie_a, serie_b, serie_c, serie_d, serie_e"
   ]
  },
  {
   "cell_type": "markdown",
   "id": "5390ffb7-c551-4d32-9695-8b8e92a413c0",
   "metadata": {},
   "source": [
    "## Función de fluctuación\n",
    "Construcción de la fluctuación de una variable del modelo"
   ]
  },
  {
   "cell_type": "code",
   "execution_count": 4,
   "id": "4e8776df-2835-453f-ae47-7e1ecbccc715",
   "metadata": {},
   "outputs": [],
   "source": [
    "@jit(nopython = True)\n",
    "def fluctuacion(determinista, estocastico):\n",
    "    return estocastico - determinista"
   ]
  },
  {
   "cell_type": "markdown",
   "id": "f1cd731e-3a5b-4588-9af7-0d2c85e3922f",
   "metadata": {},
   "source": [
    "## Archivo del ensamble de realizaciones de la frontera"
   ]
  },
  {
   "cell_type": "code",
   "execution_count": 5,
   "id": "39b4c5ee-dfea-43de-bfe5-c7abff0aec7a",
   "metadata": {},
   "outputs": [
    {
     "data": {
      "text/plain": [
       "(100, 100001)"
      ]
     },
     "execution_count": 5,
     "metadata": {},
     "output_type": "execute_result"
    }
   ],
   "source": [
    "ensamble_fronteras = np.loadtxt(\"datos_frontera/fronteras.csv\")\n",
    "ensamble_fronteras.shape"
   ]
  },
  {
   "cell_type": "markdown",
   "id": "06dde128-d663-46cb-846b-a392a7da0481",
   "metadata": {
    "tags": []
   },
   "source": [
    "## Dominio espacial\n",
    "\n",
    "La solución numérica del problema se presenta solo en una dimensión espacial"
   ]
  },
  {
   "cell_type": "code",
   "execution_count": 6,
   "id": "5923816f-323c-40a6-917f-f55fbf1d3d8a",
   "metadata": {},
   "outputs": [
    {
     "data": {
      "text/plain": [
       "0.00390625"
      ]
     },
     "execution_count": 6,
     "metadata": {},
     "output_type": "execute_result"
    }
   ],
   "source": [
    "nx = 256                        # Numero de pasos en el espacio\n",
    "Lx = 1.0                        # Longitud del dominio espacial\n",
    "x = np.linspace(0, Lx, nx + 1)  # Vector del dominio espacial, contiene nx+1 puntos incluyendo el 0\n",
    "dx = x[1] - x[0]                # Tamaño de paso en el espacio, necesario para aplicar las diferencias finitas\n",
    "dx"
   ]
  },
  {
   "cell_type": "markdown",
   "id": "24ee4916-a928-4bb4-8fc4-df669717ccb0",
   "metadata": {},
   "source": [
    "## Dominio temporal\n",
    "\n",
    "El tiempo que se pretende dar solución al sistema de ecuaciones"
   ]
  },
  {
   "cell_type": "code",
   "execution_count": 7,
   "id": "4da1d9dc-7705-448b-bf3c-bb6dab9a50d8",
   "metadata": {},
   "outputs": [
    {
     "data": {
      "text/plain": [
       "1e-05"
      ]
     },
     "execution_count": 7,
     "metadata": {},
     "output_type": "execute_result"
    }
   ],
   "source": [
    "nt = ensamble_fronteras.shape[1]  # Numero de pasos en el tiempo\n",
    "Lt = 1.0                          # Longitud del dominio temporal\n",
    "t = np.linspace(0, Lt, nt)        # Vector del dominio temporal, contiene nt+1 puntos incluyendo el 0\n",
    "dt = t[1] - t[0]                  # Tamaño de paso en el tiempo, necesario para aplicar el método de Runge-Kutta mediante el solver\n",
    "dt"
   ]
  },
  {
   "cell_type": "markdown",
   "id": "7f21cd77-057d-49e5-9bd3-b02fc8830347",
   "metadata": {},
   "source": [
    "## Parámetros de la simulación"
   ]
  },
  {
   "cell_type": "markdown",
   "id": "59da6615-19b4-40dc-b76f-67c39ef3dad0",
   "metadata": {},
   "source": [
    "Para los arreglos"
   ]
  },
  {
   "cell_type": "code",
   "execution_count": 8,
   "id": "0f1bbe87-cdf5-4be4-895d-c08c7a32770f",
   "metadata": {},
   "outputs": [
    {
     "data": {
      "text/plain": [
       "0.19921875"
      ]
     },
     "execution_count": 8,
     "metadata": {},
     "output_type": "execute_result"
    }
   ],
   "source": [
    "xpi = int(nx / 5)                 # Punto de interes donde se capturan las series de tiempo\n",
    "nr = ensamble_fronteras.shape[0]  # Numero de realizaciones del ensamble\n",
    "x[xpi]"
   ]
  },
  {
   "cell_type": "markdown",
   "id": "9839e927-dea5-4411-b2f3-7378c7a22f79",
   "metadata": {},
   "source": [
    "Valores termodinámicos"
   ]
  },
  {
   "cell_type": "code",
   "execution_count": 9,
   "id": "da4db697-70f6-4d8f-b4a8-8190cd79d00c",
   "metadata": {},
   "outputs": [
    {
     "data": {
      "text/plain": [
       "1.0"
      ]
     },
     "execution_count": 9,
     "metadata": {},
     "output_type": "execute_result"
    }
   ],
   "source": [
    "difusividad = 1.0                         # Valor de referencia de la difusividad\n",
    "t_c = (Lx * Lx) / difusividad             # Tiempo caracteriztico\n",
    "num_alfa = difusividad * t_c / (Lx * Lx)  # Valor del parametro alfa\n",
    "t_c"
   ]
  },
  {
   "cell_type": "markdown",
   "id": "e7321366-6b61-488b-9a93-8103eee9d875",
   "metadata": {},
   "source": [
    "Número de Fourier"
   ]
  },
  {
   "cell_type": "code",
   "execution_count": 10,
   "id": "48f989e1-b73f-49a3-9358-9db263ba0926",
   "metadata": {},
   "outputs": [],
   "source": [
    "alfa = num_alfa * np.ones(nx + 1)  # Vector/arreglo alfa\n",
    "alfa[0], alfa[-1] = 0, 0           # Extremos del vector/arreglo alfa"
   ]
  },
  {
   "cell_type": "markdown",
   "id": "5e2d471e-063f-4f9f-a86c-aae04180cb48",
   "metadata": {},
   "source": [
    "## Inicialización"
   ]
  },
  {
   "cell_type": "code",
   "execution_count": 11,
   "id": "43b04059-b18c-478f-8470-a33dc17d85d2",
   "metadata": {},
   "outputs": [],
   "source": [
    "fluc_a = np.empty((nr, nt))\n",
    "fluc_b = np.empty((nr, nt))\n",
    "fluc_c = np.empty((nr, nt))\n",
    "fluc_d = np.empty((nr, nt))\n",
    "fluc_e = np.empty((nr, nt))\n",
    "serie_a = np.empty((nr, nt))\n",
    "serie_b = np.empty((nr, nt))\n",
    "serie_c = np.empty((nr, nt))\n",
    "serie_d = np.empty((nr, nt))\n",
    "serie_e = np.empty((nr, nt))"
   ]
  },
  {
   "cell_type": "markdown",
   "id": "9949695c-1bde-4978-a541-882eacdc9785",
   "metadata": {
    "tags": []
   },
   "source": [
    "## Proceso principal"
   ]
  },
  {
   "cell_type": "code",
   "execution_count": 12,
   "id": "48c9ffbb-f4fb-4096-83b9-ede548bdc4d8",
   "metadata": {},
   "outputs": [
    {
     "data": {
      "application/vnd.jupyter.widget-view+json": {
       "model_id": "3e76c9aa18fe4f66928d0b423b7da5f5",
       "version_major": 2,
       "version_minor": 0
      },
      "text/plain": [
       "FloatProgress(value=0.0, description='Progreso:')"
      ]
     },
     "metadata": {},
     "output_type": "display_data"
    }
   ],
   "source": [
    "# Barra de progreso\n",
    "progreso = ipywidgets.FloatProgress(\n",
    "    value = 0,\n",
    "    min = 0,\n",
    "    max = nr, \n",
    "    description = 'Progreso:')\n",
    "display.display(progreso)\n",
    "\n",
    "progreso.value = 0\n",
    "for r in range(nr):\n",
    "    # Fronteras\n",
    "    frontera_est = ensamble_fronteras[r]\n",
    "    frontera_det = np.mean(frontera_est) * np.ones(nt)\n",
    "    # Simulaciones\n",
    "    a_est, b_est, c_est, d_est, e_est = simulacion(frontera_est)\n",
    "    a_det, b_det, c_det, d_det, e_det = simulacion(frontera_det)\n",
    "    # Fluctuaciones\n",
    "    fluc_a[r] = fluctuacion(a_det, a_est)\n",
    "    fluc_b[r] = fluctuacion(b_det, b_est)\n",
    "    fluc_c[r] = fluctuacion(c_det, c_est)\n",
    "    fluc_d[r] = fluctuacion(d_det, d_est)\n",
    "    fluc_e[r] = fluctuacion(e_det, e_est)\n",
    "    # Series\n",
    "    serie_a[r] = a_est\n",
    "    serie_b[r] = b_est\n",
    "    serie_c[r] = c_est\n",
    "    serie_d[r] = d_est\n",
    "    serie_e[r] = e_est\n",
    "    # Progreso del trabajo\n",
    "    progreso.value = r + 1"
   ]
  },
  {
   "cell_type": "markdown",
   "id": "17232028-197b-4b18-a493-73678edc521e",
   "metadata": {
    "tags": []
   },
   "source": [
    "## Archivos"
   ]
  },
  {
   "cell_type": "code",
   "execution_count": 13,
   "id": "5ca03c63-1d5c-4ece-b1e3-a3dabc55edde",
   "metadata": {},
   "outputs": [],
   "source": [
    "ruta = \"datos_experimentos_fourier/\"\n",
    "np.savetxt(ruta + \"a_serie.csv\", serie_a)\n",
    "np.savetxt(ruta + \"b_serie.csv\", serie_b)\n",
    "np.savetxt(ruta + \"c_serie.csv\", serie_c)\n",
    "np.savetxt(ruta + \"d_serie.csv\", serie_d)\n",
    "np.savetxt(ruta + \"e_serie.csv\", serie_e)\n",
    "np.savetxt(ruta + \"a_fluc.csv\", fluc_a)\n",
    "np.savetxt(ruta + \"b_fluc.csv\", fluc_b)\n",
    "np.savetxt(ruta + \"c_fluc.csv\", fluc_c)\n",
    "np.savetxt(ruta + \"d_fluc.csv\", fluc_d)\n",
    "np.savetxt(ruta + \"e_fluc.csv\", fluc_e)"
   ]
  }
 ],
 "metadata": {
  "kernelspec": {
   "display_name": "Python 3 (ipykernel)",
   "language": "python",
   "name": "python3"
  },
  "language_info": {
   "codemirror_mode": {
    "name": "ipython",
    "version": 3
   },
   "file_extension": ".py",
   "mimetype": "text/x-python",
   "name": "python",
   "nbconvert_exporter": "python",
   "pygments_lexer": "ipython3",
   "version": "3.9.11"
  }
 },
 "nbformat": 4,
 "nbformat_minor": 5
}
