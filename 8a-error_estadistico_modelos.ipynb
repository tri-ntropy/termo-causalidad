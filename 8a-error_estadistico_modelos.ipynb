{
 "cells": [
  {
   "cell_type": "markdown",
   "id": "552858c2-e596-46f3-abda-13878a3eac97",
   "metadata": {},
   "source": [
    "## Importación de bibliotecas"
   ]
  },
  {
   "cell_type": "code",
   "execution_count": 1,
   "id": "e22201e4-8b24-46e7-85a5-efa26342ae6f",
   "metadata": {},
   "outputs": [],
   "source": [
    "import numpy as np"
   ]
  },
  {
   "cell_type": "markdown",
   "id": "313d271f-3ddd-45c9-ba27-bf4fe8781394",
   "metadata": {},
   "source": [
    "## Ruta de archivos"
   ]
  },
  {
   "cell_type": "code",
   "execution_count": 2,
   "id": "599e5468-6cb2-4263-b0ca-d67dd1cc2189",
   "metadata": {},
   "outputs": [],
   "source": [
    "ruta = \"datos/caracter_entropia_modelos/\""
   ]
  },
  {
   "cell_type": "markdown",
   "id": "eaa471a1-2cfb-4cdb-94b4-c9ef4669eef6",
   "metadata": {},
   "source": [
    "## \"Metadatos\""
   ]
  },
  {
   "cell_type": "code",
   "execution_count": 3,
   "id": "5eec7340-d4d9-4564-8f72-35801be5f979",
   "metadata": {},
   "outputs": [],
   "source": [
    "modelos = [\"fourier\", \"cattaneo\", \"guyer\"]\n",
    "casos = [\"ab\", \"ba\", \"cd\", \"dc\", \"ce\", \"ec\", \"ab-ba\", \"ba-ab\", \"cd-dc\", \"dc-cd\", \"ce-ec\", \"ec-ce\"]"
   ]
  },
  {
   "cell_type": "markdown",
   "id": "ca9cd8f8-d887-48ae-8863-a7c0f8be2962",
   "metadata": {},
   "source": [
    "## Construcción del diccionario del error y promedio"
   ]
  },
  {
   "cell_type": "code",
   "execution_count": 4,
   "id": "68d2c5a2-f9fe-49be-a42f-54201f640bf2",
   "metadata": {},
   "outputs": [],
   "source": [
    "error = {}\n",
    "promedio = {}\n",
    "for m in modelos:\n",
    "    error[m] = {}\n",
    "    promedio[m] = {}\n",
    "    for c in casos:\n",
    "        error[m][c] = np.abs(np.loadtxt(ruta + \"error_\" + m + \"_\" + c + \".csv\")).max()\n",
    "        promedio[m][c] = np.abs(np.loadtxt(ruta + \"promedio_\" + m + \"_\" + c + \".csv\")).max()"
   ]
  },
  {
   "cell_type": "markdown",
   "id": "0a4a8abf-c0a6-4de4-93a1-c1e212bb8284",
   "metadata": {},
   "source": [
    "## Valores máximos del error"
   ]
  },
  {
   "cell_type": "code",
   "execution_count": 5,
   "id": "25cc83f1-09cf-4c09-8f0b-7d68635a3f05",
   "metadata": {},
   "outputs": [
    {
     "name": "stdout",
     "output_type": "stream",
     "text": [
      "fourier\n",
      "\tab:  0.00012542051\n",
      "\tba:  0.00012542051\n",
      "\tcd:  0.00011532237\n",
      "\tdc:  0.00011532237\n",
      "\tce:  2.02634e-05\n",
      "\tec:  2.548639e-05\n",
      "\tab-ba:  0.0\n",
      "\tba-ab:  0.0\n",
      "\tcd-dc:  0.0\n",
      "\tdc-cd:  0.0\n",
      "\tce-ec:  2.488425e-05\n",
      "\tec-ce:  2.488425e-05\n",
      "cattaneo\n",
      "\tab:  6.166711e-05\n",
      "\tba:  0.00013532465\n",
      "\tcd:  0.00010190348\n",
      "\tdc:  9.207556e-05\n",
      "\tce:  2.977924e-05\n",
      "\tec:  5.081494e-05\n",
      "\tab-ba:  0.00013608219\n",
      "\tba-ab:  0.00013608219\n",
      "\tcd-dc:  0.00011810119\n",
      "\tdc-cd:  0.00011810119\n",
      "\tce-ec:  4.216682e-05\n",
      "\tec-ce:  4.216682e-05\n",
      "guyer\n",
      "\tab:  5.33617e-05\n",
      "\tba:  8.370316e-05\n",
      "\tcd:  5.637472e-05\n",
      "\tdc:  8.283474e-05\n",
      "\tce:  2.351488e-05\n",
      "\tec:  2.851168e-05\n",
      "\tab-ba:  7.017204e-05\n",
      "\tba-ab:  7.017204e-05\n",
      "\tcd-dc:  6.019361e-05\n",
      "\tdc-cd:  6.019361e-05\n",
      "\tce-ec:  2.917827e-05\n",
      "\tec-ce:  2.917827e-05\n",
      "\n",
      " Máximo error:  0.00013608218692236532\n"
     ]
    }
   ],
   "source": [
    "ve = np.empty(0)\n",
    "for m in modelos:\n",
    "    print(m)\n",
    "    for c in casos:\n",
    "        e = error[m][c]**0.5\n",
    "        print(\"\\t\" + c + \": \", np.around(e, decimals = 11))\n",
    "        ve = np.append(ve, e)\n",
    "\n",
    "print(\"\\n\", \"Máximo error: \", ve.max())"
   ]
  },
  {
   "cell_type": "markdown",
   "id": "af29cbde-b254-416e-91fa-35b015a7fa4a",
   "metadata": {},
   "source": [
    "## Porcentajes máximos del error respecto al valor promedio"
   ]
  },
  {
   "cell_type": "code",
   "execution_count": 6,
   "id": "b80cae1e-ff32-4544-8020-3aaab1fe4d46",
   "metadata": {},
   "outputs": [
    {
     "name": "stdout",
     "output_type": "stream",
     "text": [
      "fourier\n",
      "\tab:  0.24113946719584356\n",
      "\tba:  0.24113946719584356\n",
      "\tcd:  0.30667812813578477\n",
      "\tdc:  0.30667812813578477\n",
      "\tce:  1.0217325942917976\n",
      "\tec:  0.7558318637068493\n",
      "\tab-ba:  0\n",
      "\tba-ab:  0\n",
      "\tcd-dc:  0\n",
      "\tdc-cd:  0\n",
      "\tce-ec:  0.7653000101248002\n",
      "\tec-ce:  0.7653000101248002\n",
      "cattaneo\n",
      "\tab:  0.07807895117514403\n",
      "\tba:  0.1463429644009798\n",
      "\tcd:  0.20432667639127458\n",
      "\tdc:  0.18774758036896283\n",
      "\tce:  0.6900900925981898\n",
      "\tec:  0.6904611839004875\n",
      "\tab-ba:  0.1567883953315457\n",
      "\tba-ab:  0.1567883953315457\n",
      "\tcd-dc:  0.2541432969626551\n",
      "\tdc-cd:  0.2541432969626551\n",
      "\tce-ec:  0.9331108500854062\n",
      "\tec-ce:  0.9331108500854062\n",
      "guyer\n",
      "\tab:  0.18482732769626023\n",
      "\tba:  0.2540722135140181\n",
      "\tcd:  0.25246903585307506\n",
      "\tdc:  0.32864715318325816\n",
      "\tce:  0.870249493655\n",
      "\tec:  0.6460478493524242\n",
      "\tab-ba:  0.24615975729283215\n",
      "\tba-ab:  0.24615975729283215\n",
      "\tcd-dc:  0.27243767829549936\n",
      "\tdc-cd:  0.27243767829549936\n",
      "\tce-ec:  0.6895869636578347\n",
      "\tec-ce:  0.6895869636578347\n",
      "\n",
      " Máximo % del error:  1.0217325942917976\n"
     ]
    }
   ],
   "source": [
    "vpe = np.empty(0)\n",
    "for m in modelos:\n",
    "    print(m)\n",
    "    for c in casos:\n",
    "        e = error[m][c] ** 0.5\n",
    "        p = promedio[m][c]\n",
    "        if p == 0:\n",
    "            pe = 0\n",
    "        else:\n",
    "            pe = (100 * e) / p\n",
    "        print(\"\\t\" + c + \": \", pe)\n",
    "        vpe = np.append(vpe, pe)\n",
    "\n",
    "print(\"\\n\", \"Máximo % del error: \", vpe.max())"
   ]
  },
  {
   "cell_type": "code",
   "execution_count": null,
   "id": "ba712cac-fc2d-4075-ae4f-7f25f406121d",
   "metadata": {},
   "outputs": [],
   "source": []
  }
 ],
 "metadata": {
  "kernelspec": {
   "display_name": "Python 3 (ipykernel)",
   "language": "python",
   "name": "python3"
  },
  "language_info": {
   "codemirror_mode": {
    "name": "ipython",
    "version": 3
   },
   "file_extension": ".py",
   "mimetype": "text/x-python",
   "name": "python",
   "nbconvert_exporter": "python",
   "pygments_lexer": "ipython3",
   "version": "3.9.12"
  }
 },
 "nbformat": 4,
 "nbformat_minor": 5
}
