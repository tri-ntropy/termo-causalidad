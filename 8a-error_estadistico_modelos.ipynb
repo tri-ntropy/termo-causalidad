{
 "cells": [
  {
   "cell_type": "markdown",
   "id": "552858c2-e596-46f3-abda-13878a3eac97",
   "metadata": {},
   "source": [
    "## Importación de bibliotecas"
   ]
  },
  {
   "cell_type": "code",
   "execution_count": 1,
   "id": "e22201e4-8b24-46e7-85a5-efa26342ae6f",
   "metadata": {},
   "outputs": [],
   "source": [
    "import numpy as np"
   ]
  },
  {
   "cell_type": "markdown",
   "id": "313d271f-3ddd-45c9-ba27-bf4fe8781394",
   "metadata": {},
   "source": [
    "## Ruta de archivos"
   ]
  },
  {
   "cell_type": "code",
   "execution_count": 2,
   "id": "599e5468-6cb2-4263-b0ca-d67dd1cc2189",
   "metadata": {},
   "outputs": [],
   "source": [
    "ruta = \"datos/caracter_entropia_modelos/\""
   ]
  },
  {
   "cell_type": "markdown",
   "id": "eaa471a1-2cfb-4cdb-94b4-c9ef4669eef6",
   "metadata": {},
   "source": [
    "## \"Metadatos\""
   ]
  },
  {
   "cell_type": "code",
   "execution_count": 3,
   "id": "5eec7340-d4d9-4564-8f72-35801be5f979",
   "metadata": {},
   "outputs": [],
   "source": [
    "modelos = [\"fourier\", \"cattaneo\", \"guyer\"]\n",
    "casos = [\"ab\", \"ba\", \"cd\", \"dc\", \"ce\", \"ec\", \"ab-ba\", \"ba-ab\", \"cd-dc\", \"dc-cd\", \"ce-ec\", \"ec-ce\"]"
   ]
  },
  {
   "cell_type": "markdown",
   "id": "ca9cd8f8-d887-48ae-8863-a7c0f8be2962",
   "metadata": {},
   "source": [
    "## Construcción del diccionario del error y promedio"
   ]
  },
  {
   "cell_type": "code",
   "execution_count": 4,
   "id": "68d2c5a2-f9fe-49be-a42f-54201f640bf2",
   "metadata": {},
   "outputs": [],
   "source": [
    "error = {}\n",
    "promedio = {}\n",
    "for m in modelos:\n",
    "    error[m] = {}\n",
    "    promedio[m] = {}\n",
    "    for c in casos:\n",
    "        error[m][c] = np.abs(np.loadtxt(ruta + \"error_\" + m + \"_\" + c + \".csv\")).max()\n",
    "        promedio[m][c] = np.abs(np.loadtxt(ruta + \"promedio_\" + m + \"_\" + c + \".csv\")).max()"
   ]
  },
  {
   "cell_type": "markdown",
   "id": "0a4a8abf-c0a6-4de4-93a1-c1e212bb8284",
   "metadata": {},
   "source": [
    "## Valores máximos del error"
   ]
  },
  {
   "cell_type": "code",
   "execution_count": 5,
   "id": "25cc83f1-09cf-4c09-8f0b-7d68635a3f05",
   "metadata": {},
   "outputs": [
    {
     "name": "stdout",
     "output_type": "stream",
     "text": [
      "fourier\n",
      "\tab:  0.00025982197\n",
      "\tba:  0.00025982197\n",
      "\tcd:  0.0002492479\n",
      "\tdc:  0.0002492479\n",
      "\tce:  4.948319e-05\n",
      "\tec:  5.835093e-05\n",
      "\tab-ba:  0.0\n",
      "\tba-ab:  0.0\n",
      "\tcd-dc:  0.0\n",
      "\tdc-cd:  0.0\n",
      "\tce-ec:  5.725954e-05\n",
      "\tec-ce:  5.725954e-05\n",
      "cattaneo\n",
      "\tab:  0.00010832275\n",
      "\tba:  0.00024438219\n",
      "\tcd:  0.00018839357\n",
      "\tdc:  0.00021843088\n",
      "\tce:  7.281435e-05\n",
      "\tec:  0.00011690983\n",
      "\tab-ba:  0.0002588555\n",
      "\tba-ab:  0.0002588555\n",
      "\tcd-dc:  0.00020916518\n",
      "\tdc-cd:  0.00020916518\n",
      "\tce-ec:  0.00010637705\n",
      "\tec-ce:  0.00010637705\n",
      "guyer\n",
      "\tab:  0.0001033978\n",
      "\tba:  0.00017867083\n",
      "\tcd:  0.00012976201\n",
      "\tdc:  0.00017988356\n",
      "\tce:  5.844448e-05\n",
      "\tec:  6.875303e-05\n",
      "\tab-ba:  0.00015188122\n",
      "\tba-ab:  0.00015188122\n",
      "\tcd-dc:  0.00013469155\n",
      "\tdc-cd:  0.00013469155\n",
      "\tce-ec:  6.761424e-05\n",
      "\tec-ce:  6.761424e-05\n",
      "\n",
      " Máximo error:  0.0002598219709744861\n"
     ]
    }
   ],
   "source": [
    "ve = np.empty(0)\n",
    "for m in modelos:\n",
    "    print(m)\n",
    "    for c in casos:\n",
    "        e = error[m][c]**0.5\n",
    "        print(\"\\t\" + c + \": \", np.around(e, decimals = 11))\n",
    "        ve = np.append(ve, e)\n",
    "\n",
    "print(\"\\n\", \"Máximo error: \", ve.max())"
   ]
  },
  {
   "cell_type": "markdown",
   "id": "af29cbde-b254-416e-91fa-35b015a7fa4a",
   "metadata": {},
   "source": [
    "## Porcentajes máximos del error respecto al valor promedio"
   ]
  },
  {
   "cell_type": "code",
   "execution_count": 6,
   "id": "b80cae1e-ff32-4544-8020-3aaab1fe4d46",
   "metadata": {},
   "outputs": [
    {
     "name": "stdout",
     "output_type": "stream",
     "text": [
      "fourier\n",
      "\tab:  0.2337754587429161\n",
      "\tba:  0.2337754587429161\n",
      "\tcd:  0.3072701693753605\n",
      "\tdc:  0.3072701693753605\n",
      "\tce:  0.9052532260546268\n",
      "\tec:  0.687845040802379\n",
      "\tab-ba:  0\n",
      "\tba-ab:  0\n",
      "\tcd-dc:  0\n",
      "\tdc-cd:  0\n",
      "\tce-ec:  0.7089497163708467\n",
      "\tec-ce:  0.7089497163708467\n",
      "cattaneo\n",
      "\tab:  0.0828622965990184\n",
      "\tba:  0.14511922132819538\n",
      "\tcd:  0.18211999002140303\n",
      "\tdc:  0.21025100865362828\n",
      "\tce:  0.6215897962745253\n",
      "\tec:  0.5886206936203313\n",
      "\tab-ba:  0.166040546256092\n",
      "\tba-ab:  0.166040546256092\n",
      "\tcd-dc:  0.2193157198253064\n",
      "\tdc-cd:  0.2193157198253064\n",
      "\tce-ec:  0.7646119069095154\n",
      "\tec-ce:  0.7646119069095154\n",
      "guyer\n",
      "\tab:  0.18654947136346794\n",
      "\tba:  0.29073607885976815\n",
      "\tcd:  0.27964700172970663\n",
      "\tdc:  0.35863106323378513\n",
      "\tce:  0.8671630115710314\n",
      "\tec:  0.6829765520375759\n",
      "\tab-ba:  0.2796364567840195\n",
      "\tba-ab:  0.2796364567840195\n",
      "\tcd-dc:  0.2974568673478438\n",
      "\tdc-cd:  0.2974568673478438\n",
      "\tce-ec:  0.7028650241411742\n",
      "\tec-ce:  0.7028650241411742\n",
      "\n",
      " Máximo % del error:  0.9052532260546268\n"
     ]
    }
   ],
   "source": [
    "vpe = np.empty(0)\n",
    "for m in modelos:\n",
    "    print(m)\n",
    "    for c in casos:\n",
    "        e = error[m][c] ** 0.5\n",
    "        p = promedio[m][c]\n",
    "        if p == 0:\n",
    "            pe = 0\n",
    "        else:\n",
    "            pe = (100 * e) / p\n",
    "        print(\"\\t\" + c + \": \", pe)\n",
    "        vpe = np.append(vpe, pe)\n",
    "\n",
    "print(\"\\n\", \"Máximo % del error: \", vpe.max())"
   ]
  },
  {
   "cell_type": "code",
   "execution_count": null,
   "id": "ba712cac-fc2d-4075-ae4f-7f25f406121d",
   "metadata": {},
   "outputs": [],
   "source": []
  }
 ],
 "metadata": {
  "kernelspec": {
   "display_name": "Python 3 (ipykernel)",
   "language": "python",
   "name": "python3"
  },
  "language_info": {
   "codemirror_mode": {
    "name": "ipython",
    "version": 3
   },
   "file_extension": ".py",
   "mimetype": "text/x-python",
   "name": "python",
   "nbconvert_exporter": "python",
   "pygments_lexer": "ipython3",
   "version": "3.9.12"
  }
 },
 "nbformat": 4,
 "nbformat_minor": 5
}
