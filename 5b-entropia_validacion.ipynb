{
 "cells": [
  {
   "cell_type": "markdown",
   "id": "8b2da526-1b8d-443f-a6aa-baecfe87d7e0",
   "metadata": {},
   "source": [
    "#  Calculo de la entropía de transferencia simbólica - validación metodológica\n",
    "\n",
    "Con el objeto de validar la metodología, se aplica la entropía de transferencia simbólica sobre experimentos de los cuales ya se conoce su relación causal."
   ]
  },
  {
   "cell_type": "markdown",
   "id": "c09d1f8f-faa7-4c26-a937-6dd59970a029",
   "metadata": {},
   "source": [
    "## Importación de bibliotecas"
   ]
  },
  {
   "cell_type": "code",
   "execution_count": 1,
   "id": "5d9e4146-b957-4fec-8aa2-2c631f63ecea",
   "metadata": {},
   "outputs": [],
   "source": [
    "from IPython import display\n",
    "import ipywidgets\n",
    "import numpy as np\n",
    "import modulo_ets as mets"
   ]
  },
  {
   "cell_type": "markdown",
   "id": "4e9220ef-46cd-462a-8f3a-639f7632188d",
   "metadata": {},
   "source": [
    "## Lectura de archivos"
   ]
  },
  {
   "cell_type": "code",
   "execution_count": 2,
   "id": "027527b2-bdd9-49db-b564-6518eb7b177c",
   "metadata": {},
   "outputs": [],
   "source": [
    "ruta = \"datos/experimentos_validacion/\"\n",
    "experimento = \"00\"\n",
    "lista_x = np.loadtxt(ruta + \"x\" + experimento + \".csv\", delimiter = \",\")\n",
    "lista_y = np.loadtxt(ruta + \"y\" + experimento + \".csv\", delimiter = \",\")\n",
    "nlista = lista_x.shape[0]"
   ]
  },
  {
   "cell_type": "markdown",
   "id": "1186f842-7fb0-478e-8a97-089b01bc78c3",
   "metadata": {},
   "source": [
    "## Inicialización"
   ]
  },
  {
   "cell_type": "code",
   "execution_count": 3,
   "id": "d1f71789-e41b-4627-bc98-012cd947e6b1",
   "metadata": {},
   "outputs": [],
   "source": [
    "tv_ets = 3\n",
    "nt_ets = 101\n",
    "ets_xy = np.empty((nlista, nt_ets + 1))\n",
    "ets_yx = np.empty((nlista, nt_ets + 1))"
   ]
  },
  {
   "cell_type": "markdown",
   "id": "244cc1b8-1be7-41d8-9998-6e6d16a3913a",
   "metadata": {},
   "source": [
    "## Calculo de la curva de ETS"
   ]
  },
  {
   "cell_type": "code",
   "execution_count": 4,
   "id": "a880310b-50be-441b-86b1-a9e367a396d6",
   "metadata": {},
   "outputs": [
    {
     "data": {
      "application/vnd.jupyter.widget-view+json": {
       "model_id": "eaf05018934447bb8986442262c73fa7",
       "version_major": 2,
       "version_minor": 0
      },
      "text/plain": [
       "FloatProgress(value=0.0, description='Progreso:', max=128.0)"
      ]
     },
     "metadata": {},
     "output_type": "display_data"
    }
   ],
   "source": [
    "# Barra de progreso\n",
    "progreso = ipywidgets.FloatProgress(\n",
    "    value = 0,\n",
    "    min = 0,\n",
    "    max = nlista, \n",
    "    description = 'Progreso:')\n",
    "display.display(progreso)\n",
    "\n",
    "# Proceso principal\n",
    "progreso.value = 0\n",
    "for e in range(nlista):\n",
    "    ets_xy[e], ets_yx[e] = mets.causa(lista_x[e], lista_y[e], nt_ets, tv_ets)\n",
    "    progreso.value = e + 1"
   ]
  },
  {
   "cell_type": "markdown",
   "id": "9edb0956-491b-4e5f-8c2c-d0ab01b7026b",
   "metadata": {},
   "source": [
    "## Escritura de archivos"
   ]
  },
  {
   "cell_type": "code",
   "execution_count": 5,
   "id": "311f357e-ece6-474f-b2a0-1f03ad4ddb5a",
   "metadata": {},
   "outputs": [],
   "source": [
    "ruta = \"datos/entropia_validacion/\"\n",
    "np.savetxt(ruta + experimento + \"_\" + \"xy\" + \".csv\", ets_xy[:, 1 :], delimiter = \",\")\n",
    "np.savetxt(ruta + experimento + \"_\" + \"yx\" + \".csv\", ets_yx[:, 1 :], delimiter = \",\")"
   ]
  }
 ],
 "metadata": {
  "kernelspec": {
   "display_name": "Python 3 (ipykernel)",
   "language": "python",
   "name": "python3"
  },
  "language_info": {
   "codemirror_mode": {
    "name": "ipython",
    "version": 3
   },
   "file_extension": ".py",
   "mimetype": "text/x-python",
   "name": "python",
   "nbconvert_exporter": "python",
   "pygments_lexer": "ipython3",
   "version": "3.9.12"
  }
 },
 "nbformat": 4,
 "nbformat_minor": 5
}
