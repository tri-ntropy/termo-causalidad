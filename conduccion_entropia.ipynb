{
 "cells": [
  {
   "cell_type": "markdown",
   "id": "0216c0b0-3b9c-4089-88a9-528aae8e9b72",
   "metadata": {},
   "source": [
    "# Calculo de la entropía de transferencia simbólica sobre los experimentos de conducción de calor"
   ]
  },
  {
   "cell_type": "markdown",
   "id": "0d6a5cbc-2153-4d56-bb3d-9af0ad061c35",
   "metadata": {},
   "source": [
    "## Importación de bibliotecas"
   ]
  },
  {
   "cell_type": "code",
   "execution_count": 1,
   "id": "6607a146-14d5-442d-bd24-d1a31636ea0e",
   "metadata": {},
   "outputs": [],
   "source": [
    "from IPython import display\n",
    "import ipywidgets\n",
    "import numpy as np\n",
    "import modulo_ets as mets"
   ]
  },
  {
   "cell_type": "markdown",
   "id": "d257d928-fe79-49cb-a40d-e76626fb7a8e",
   "metadata": {},
   "source": [
    "## Función constructura de la curva de ETS"
   ]
  },
  {
   "cell_type": "code",
   "execution_count": 2,
   "id": "9cb4895a-3c8f-4a2e-b3ee-6e24244442a7",
   "metadata": {},
   "outputs": [],
   "source": [
    "def causa(x, y, ct):\n",
    "    \"\"\"\n",
    "    Genera las curvas de entropia de transferencia\n",
    "    para una realizacion del sistema\n",
    "    \n",
    "    Parámetros\n",
    "    ----------\n",
    "    ct : Valores de corrimiento de pasos en los cuales\n",
    "         se calcula los valores de T(X->Y)\n",
    "    \n",
    "    Regresa\n",
    "    ----------\n",
    "    Los arreglos de T(X->Y), T(Y->X), T(X->X) y T(Y->Y)\n",
    "    \"\"\"\n",
    "    # Simbolización\n",
    "    sim_x = mets.simbolizar(x)\n",
    "    sim_y = mets.simbolizar(y)\n",
    "    # Curvas de ETS\n",
    "    entropia_xy, entropia_yx = mets.curva_ets(sim_x, sim_y, pasos = ct)\n",
    "    entropia_xx = mets.curva_ets_simple(sim_x, pasos = ct)\n",
    "    entropia_yy = mets.curva_ets_simple(sim_y, pasos = ct)\n",
    "    \n",
    "    return entropia_xy, entropia_yx, entropia_xx, entropia_yy"
   ]
  },
  {
   "cell_type": "markdown",
   "id": "7dba9ea3-f654-4bce-bcfd-278dafb15cea",
   "metadata": {},
   "source": [
    "## Lectura de archivos"
   ]
  },
  {
   "cell_type": "code",
   "execution_count": 3,
   "id": "fbe70ae8-0ab4-43c0-8fd1-66e62829a5ba",
   "metadata": {},
   "outputs": [],
   "source": [
    "modelo = \"cattaneo\"\n",
    "ruta = \"datos_experimentos_\" + modelo + \"/\"\n",
    "variable_x = \"a_fluc\"\n",
    "variable_y = \"b_fluc\"\n",
    "lista_x = np.loadtxt(ruta + variable_x + \".csv\")\n",
    "lista_y = np.loadtxt(ruta + variable_y + \".csv\")\n",
    "nlista = lista_x.shape[0]"
   ]
  },
  {
   "cell_type": "markdown",
   "id": "c166b052-5045-457d-86e0-033a060c6af4",
   "metadata": {},
   "source": [
    "## Inicialización"
   ]
  },
  {
   "cell_type": "code",
   "execution_count": 4,
   "id": "bd3c3581-bef1-485b-809d-e56f3942a01b",
   "metadata": {},
   "outputs": [],
   "source": [
    "nets = 101\n",
    "ets_xy = np.empty((nlista, nets + 1))\n",
    "ets_yx = np.empty((nlista, nets + 1))\n",
    "ets_xx = np.empty((nlista, nets + 1))\n",
    "ets_yy = np.empty((nlista, nets + 1))"
   ]
  },
  {
   "cell_type": "markdown",
   "id": "1f022372-f23b-4777-86ed-ef1eaea734d9",
   "metadata": {},
   "source": [
    "## Calculo de la curva de ETS"
   ]
  },
  {
   "cell_type": "code",
   "execution_count": 5,
   "id": "c7265238-4ed1-46ff-9d5f-42e72d0c7b09",
   "metadata": {},
   "outputs": [
    {
     "data": {
      "application/vnd.jupyter.widget-view+json": {
       "model_id": "346fb75d9da74f0cb9a4fd2a0638bedb",
       "version_major": 2,
       "version_minor": 0
      },
      "text/plain": [
       "FloatProgress(value=0.0, description='Progreso:')"
      ]
     },
     "metadata": {},
     "output_type": "display_data"
    }
   ],
   "source": [
    "# Barra de progreso\n",
    "progreso = ipywidgets.FloatProgress(\n",
    "    value = 0,\n",
    "    min = 0,\n",
    "    max = nlista, \n",
    "    description = 'Progreso:')\n",
    "display.display(progreso)\n",
    "\n",
    "progreso.value = 0\n",
    "for e in range(nlista):\n",
    "    ets_xy[e], ets_yx[e], ets_xx[e], ets_yy[e] = causa(lista_x[e], lista_y[e], nets)\n",
    "    progreso.value = e + 1"
   ]
  },
  {
   "cell_type": "markdown",
   "id": "3648d626-3e03-4054-a0ad-a185c3ee0596",
   "metadata": {},
   "source": [
    "## Escritura de archivos"
   ]
  },
  {
   "cell_type": "code",
   "execution_count": 6,
   "id": "a624d2cc-bea1-49b2-b584-45ba82e019b7",
   "metadata": {},
   "outputs": [],
   "source": [
    "ruta = \"datos_entropia_conduccion/\"\n",
    "np.savetxt(ruta + \"ets_\" + variable_x + variable_y + \"_\" + modelo + \".csv\", ets_xy[:, 1 :])\n",
    "np.savetxt(ruta + \"ets_\" + variable_y + variable_x + \"_\" + modelo + \".csv\", ets_yx[:, 1 :])\n",
    "np.savetxt(ruta + \"ets_\" + variable_x + variable_x + \"_\" + modelo + \".csv\", ets_xx[:, 1 :])\n",
    "np.savetxt(ruta + \"ets_\" + variable_y + variable_y + \"_\" + modelo + \".csv\", ets_yy[:, 1 :])"
   ]
  }
 ],
 "metadata": {
  "kernelspec": {
   "display_name": "Python 3 (ipykernel)",
   "language": "python",
   "name": "python3"
  },
  "language_info": {
   "codemirror_mode": {
    "name": "ipython",
    "version": 3
   },
   "file_extension": ".py",
   "mimetype": "text/x-python",
   "name": "python",
   "nbconvert_exporter": "python",
   "pygments_lexer": "ipython3",
   "version": "3.9.11"
  }
 },
 "nbformat": 4,
 "nbformat_minor": 5
}
