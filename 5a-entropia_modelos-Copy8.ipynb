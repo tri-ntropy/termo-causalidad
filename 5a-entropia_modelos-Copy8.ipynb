{
 "cells": [
  {
   "cell_type": "markdown",
   "id": "0216c0b0-3b9c-4089-88a9-528aae8e9b72",
   "metadata": {},
   "source": [
    "# Calculo de la entropía de transferencia simbólica para los experimentos de de los modelos de conducción de calor"
   ]
  },
  {
   "cell_type": "markdown",
   "id": "0d6a5cbc-2153-4d56-bb3d-9af0ad061c35",
   "metadata": {},
   "source": [
    "## Importación de bibliotecas"
   ]
  },
  {
   "cell_type": "code",
   "execution_count": 1,
   "id": "6607a146-14d5-442d-bd24-d1a31636ea0e",
   "metadata": {},
   "outputs": [],
   "source": [
    "from IPython import display\n",
    "import ipywidgets\n",
    "import numpy as np\n",
    "import modulo_ets as mets"
   ]
  },
  {
   "cell_type": "markdown",
   "id": "201a3750-681d-49d5-acc6-6621a1c1c540",
   "metadata": {},
   "source": [
    "## Lectura de archivos"
   ]
  },
  {
   "cell_type": "code",
   "execution_count": 2,
   "id": "3de1be38-76b3-4345-a1b3-d737448e751e",
   "metadata": {},
   "outputs": [],
   "source": [
    "ruta = \"datos/experimentos_\"\n",
    "modelo = \"guyer\"\n",
    "variable_x = \"c\"\n",
    "variable_y = \"e\"\n",
    "lista_x = np.loadtxt(ruta + modelo + \"/\" + \"fluctuacion_\" + variable_x + \".csv\", delimiter = \",\")\n",
    "lista_y = np.loadtxt(ruta + modelo + \"/\" + \"fluctuacion_\" + variable_y + \".csv\", delimiter = \",\")\n",
    "nlista = lista_x.shape[0]"
   ]
  },
  {
   "cell_type": "markdown",
   "id": "c166b052-5045-457d-86e0-033a060c6af4",
   "metadata": {},
   "source": [
    "## Inicialización"
   ]
  },
  {
   "cell_type": "code",
   "execution_count": 3,
   "id": "bd3c3581-bef1-485b-809d-e56f3942a01b",
   "metadata": {},
   "outputs": [],
   "source": [
    "tv_ets = 3\n",
    "nt_ets = 101\n",
    "ets_xy = np.empty((nlista, nt_ets + 1))\n",
    "ets_yx = np.empty((nlista, nt_ets + 1))"
   ]
  },
  {
   "cell_type": "markdown",
   "id": "1f022372-f23b-4777-86ed-ef1eaea734d9",
   "metadata": {},
   "source": [
    "## Calculo de la curva de ETS"
   ]
  },
  {
   "cell_type": "code",
   "execution_count": 4,
   "id": "c7265238-4ed1-46ff-9d5f-42e72d0c7b09",
   "metadata": {},
   "outputs": [
    {
     "data": {
      "application/vnd.jupyter.widget-view+json": {
       "model_id": "f59c856c4901488d8b2781ee8985f978",
       "version_major": 2,
       "version_minor": 0
      },
      "text/plain": [
       "FloatProgress(value=0.0, description='Progreso:', max=128.0)"
      ]
     },
     "metadata": {},
     "output_type": "display_data"
    }
   ],
   "source": [
    "# Barra de progreso\n",
    "progreso = ipywidgets.FloatProgress(\n",
    "    value = 0,\n",
    "    min = 0,\n",
    "    max = nlista, \n",
    "    description = 'Progreso:')\n",
    "display.display(progreso)\n",
    "\n",
    "# Proceso principal\n",
    "progreso.value = 0\n",
    "for e in range(nlista):\n",
    "    ets_xy[e], ets_yx[e] = mets.causa(lista_x[e], lista_y[e], nt_ets, tv_ets)\n",
    "    progreso.value = e + 1"
   ]
  },
  {
   "cell_type": "markdown",
   "id": "3648d626-3e03-4054-a0ad-a185c3ee0596",
   "metadata": {},
   "source": [
    "## Escritura de archivos"
   ]
  },
  {
   "cell_type": "code",
   "execution_count": 5,
   "id": "a624d2cc-bea1-49b2-b584-45ba82e019b7",
   "metadata": {},
   "outputs": [],
   "source": [
    "ruta = \"datos/entropia_modelos/\"\n",
    "np.savetxt(ruta + modelo + \"_\" + variable_x + variable_y + \".csv\", ets_xy[:, 1 :], delimiter = \",\")\n",
    "np.savetxt(ruta + modelo + \"_\" + variable_y + variable_x + \".csv\", ets_yx[:, 1 :], delimiter = \",\")"
   ]
  }
 ],
 "metadata": {
  "kernelspec": {
   "display_name": "Python 3 (ipykernel)",
   "language": "python",
   "name": "python3"
  },
  "language_info": {
   "codemirror_mode": {
    "name": "ipython",
    "version": 3
   },
   "file_extension": ".py",
   "mimetype": "text/x-python",
   "name": "python",
   "nbconvert_exporter": "python",
   "pygments_lexer": "ipython3",
   "version": "3.9.12"
  }
 },
 "nbformat": 4,
 "nbformat_minor": 5
}
