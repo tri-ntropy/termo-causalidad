{
 "cells": [
  {
   "cell_type": "markdown",
   "id": "19cb9a89-e50e-4c2f-a598-a9561ad00113",
   "metadata": {},
   "source": [
    "# Caracterización estadística de la entropia de transferencia simbólica para los modelos de conducción de calor - promedio y error cuadrátrico medio"
   ]
  },
  {
   "cell_type": "markdown",
   "id": "48f17589-bb0c-43bd-b661-f3baeaa6e26e",
   "metadata": {},
   "source": [
    "## Importación de bibliotecas"
   ]
  },
  {
   "cell_type": "code",
   "execution_count": 1,
   "id": "3adfa464-ee3b-4297-891f-f2d5a14b309e",
   "metadata": {},
   "outputs": [],
   "source": [
    "import numpy as np\n",
    "import os"
   ]
  },
  {
   "cell_type": "markdown",
   "id": "e78ef3fa-72c3-47d1-aa18-d81c7a3eed55",
   "metadata": {},
   "source": [
    "## Inicialización sobre la lectura de archivos"
   ]
  },
  {
   "cell_type": "code",
   "execution_count": 2,
   "id": "1f924360-3299-4648-820b-bbe50b211265",
   "metadata": {},
   "outputs": [],
   "source": [
    "ruta = \"datos/entropia_modelos/\"\n",
    "modelos = [\"fourier\", \"cattaneo\", \"guyer\"]\n",
    "parejas_variables = [\"ab\", \"ba\", \"cd\", \"dc\", \"ce\", \"ec\"]\n",
    "parejas_variables_diferencia = [[\"ab\", \"ba\"], [\"cd\", \"dc\"], [\"ce\", \"ec\"]]\n",
    "\n",
    "lista_archivos = [a for a in os.listdir(ruta) if a.endswith(\".csv\")]"
   ]
  },
  {
   "cell_type": "markdown",
   "id": "f7465e92-d594-4a28-bfb3-808fca338158",
   "metadata": {},
   "source": [
    "## Promedio y error de cada caso $xy$, $yx$"
   ]
  },
  {
   "cell_type": "code",
   "execution_count": 3,
   "id": "b5fcea4d-4fb3-499a-870d-3f05c97f3b9c",
   "metadata": {},
   "outputs": [],
   "source": [
    "error = {}\n",
    "promedio = {}\n",
    "for modelo in modelos:\n",
    "    error[modelo] = {}\n",
    "    promedio[modelo] = {}\n",
    "    for pareja in parejas_variables:\n",
    "        datos = np.loadtxt(\n",
    "            ruta +\n",
    "            [a for a in lista_archivos\n",
    "             if a.startswith(modelo) and a.endswith(pareja + \".csv\") \n",
    "            ][0], delimiter = \",\")[:, 1:]\n",
    "        promedio[modelo][pareja] = datos.mean(axis = 0)\n",
    "        error[modelo][pareja] = datos.var(axis = 0, ddof = 0) / datos.shape[0]"
   ]
  },
  {
   "cell_type": "markdown",
   "id": "730b34f1-5177-40da-bcce-251f36fcd2da",
   "metadata": {},
   "source": [
    "## Promedio y error de las diferencias $xy - yx$, $yx - xy$"
   ]
  },
  {
   "cell_type": "code",
   "execution_count": 4,
   "id": "15a68233-8a25-4d77-849f-d7def42f9f2f",
   "metadata": {},
   "outputs": [],
   "source": [
    "error_diferencia = {}\n",
    "promedio_diferencia = {}\n",
    "for modelo in modelos:\n",
    "    error_diferencia[modelo] = {}\n",
    "    promedio_diferencia[modelo] = {}\n",
    "    for pareja in parejas_variables_diferencia:\n",
    "        pareja_xyyx = pareja[0] + \"-\" + pareja[1]\n",
    "        pareja_yxxy = pareja[1] + \"-\" + pareja[0]\n",
    "        datos_xy = np.loadtxt(\n",
    "            ruta +\n",
    "            [a for a in lista_archivos\n",
    "             if a.startswith(modelo) and a.endswith(pareja[0] + \".csv\") \n",
    "            ][0], delimiter = \",\")[:, 1:]\n",
    "        datos_yx = np.loadtxt(\n",
    "            ruta +\n",
    "            [a for a in lista_archivos\n",
    "             if a.startswith(modelo) and a.endswith(pareja[1] + \".csv\")\n",
    "            ][0], delimiter = \",\")[:, 1:]\n",
    "        datos_xyyx = datos_xy - datos_yx\n",
    "        datos_yxxy = datos_yx - datos_xy\n",
    "        promedio_diferencia[modelo][pareja_xyyx] = datos_xyyx.mean(axis = 0)\n",
    "        promedio_diferencia[modelo][pareja_yxxy] = datos_yxxy.mean(axis = 0)\n",
    "        error_diferencia[modelo][pareja_xyyx] = datos_xyyx.var(axis = 0, ddof = 0) / datos_xyyx.shape[0]\n",
    "        error_diferencia[modelo][pareja_yxxy] = datos_yxxy.var(axis = 0, ddof = 0) / datos_yxxy.shape[0]"
   ]
  },
  {
   "cell_type": "markdown",
   "id": "ba266730-4fe7-4ec4-b113-ad6bbb9b5d01",
   "metadata": {},
   "source": [
    "## Escritura de archivos"
   ]
  },
  {
   "cell_type": "code",
   "execution_count": 5,
   "id": "dfcf88e1-a288-4402-bce0-f479f949cae9",
   "metadata": {},
   "outputs": [],
   "source": [
    "ruta = \"datos/caracter_entropia_modelos/\"\n",
    "for modelo in modelos:\n",
    "    for pareja in parejas_variables:\n",
    "        np.savetxt(ruta + \"error_\" + modelo + \"_\" + pareja + \".csv\", error[modelo][pareja])\n",
    "        np.savetxt(ruta + \"promedio_\" + modelo + \"_\" + pareja + \".csv\", promedio[modelo][pareja])\n",
    "    for pareja in parejas_variables_diferencia:\n",
    "        pareja_xyyx = pareja[0] + \"-\" + pareja[1]\n",
    "        pareja_yxxy = pareja[1] + \"-\" + pareja[0]\n",
    "        np.savetxt(ruta + \"error_\" + modelo + \"_\" + pareja_xyyx + \".csv\", error_diferencia[modelo][pareja_xyyx])\n",
    "        np.savetxt(ruta + \"error_\" + modelo + \"_\" + pareja_yxxy + \".csv\", error_diferencia[modelo][pareja_yxxy])\n",
    "        np.savetxt(ruta + \"promedio_\" + modelo + \"_\" + pareja_xyyx + \".csv\", promedio_diferencia[modelo][pareja_xyyx])\n",
    "        np.savetxt(ruta + \"promedio_\" + modelo + \"_\" + pareja_yxxy + \".csv\", promedio_diferencia[modelo][pareja_yxxy])"
   ]
  }
 ],
 "metadata": {
  "kernelspec": {
   "display_name": "Python 3 (ipykernel)",
   "language": "python",
   "name": "python3"
  },
  "language_info": {
   "codemirror_mode": {
    "name": "ipython",
    "version": 3
   },
   "file_extension": ".py",
   "mimetype": "text/x-python",
   "name": "python",
   "nbconvert_exporter": "python",
   "pygments_lexer": "ipython3",
   "version": "3.9.12"
  }
 },
 "nbformat": 4,
 "nbformat_minor": 5
}
