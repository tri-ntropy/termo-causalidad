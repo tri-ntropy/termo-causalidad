{
 "cells": [
  {
   "cell_type": "markdown",
   "id": "9c4e4800-ef6e-44c7-b775-e1625405c964",
   "metadata": {},
   "source": [
    "# Pruebas de Jeffreys-Guyer-Krumhansl"
   ]
  },
  {
   "cell_type": "markdown",
   "id": "753a3ddf-76f3-49c2-b51a-d17e6cee1fc9",
   "metadata": {
    "tags": []
   },
   "source": [
    "## Modelo de JGK\n",
    "## $$\\dfrac{\\partial T}{\\partial t} + \\tau_q \\dfrac{\\partial^2 T}{\\partial t^2} = \\alpha \\left[\\dfrac{\\partial^2 T}{\\partial x^2} + \\beta \\dfrac{\\partial}{\\partial t} \\left(\\dfrac{\\partial^2 T}{\\partial x^2}\\right)\\right]$$\n",
    "\n",
    "## $$q + \\tau_q \\dfrac{\\partial q}{\\partial t} = - \\left[\\dfrac{\\partial T}{\\partial x} + \\beta \\dfrac{\\partial}{\\partial t} \\left(\\dfrac{\\partial T}{\\partial x}\\right)\\right]$$\n",
    "\n",
    "## $$q(t + \\tau_q) \\simeq q + \\tau_q \\dfrac{\\partial q}{\\partial t}; \\quad \\dfrac{\\partial T}{\\partial t}(t + \\tau_q) \\simeq \\dfrac{\\partial T}{\\partial t} + \\tau_q \\dfrac{\\partial^2 T}{\\partial t^2}; \\quad \\dfrac{\\partial T}{\\partial x}(t + \\beta) \\simeq \\dfrac{\\partial T}{\\partial x} + \\beta \\dfrac{\\partial}{\\partial t} \\left(\\dfrac{\\partial T}{\\partial x}\\right)$$\n",
    "\n",
    "## $$\\dfrac{\\partial^2 T}{\\partial x^2} (t + \\beta) \\simeq \\dfrac{\\partial^2 T}{\\partial x^2} + \\beta \\dfrac{\\partial}{\\partial t} \\left(\\dfrac{\\partial^2 T}{\\partial x^2}\\right) $$\n",
    "\n",
    "## Con las variables causales\n",
    "### $A = \\dfrac{\\partial T}{\\partial t}, \\quad B = \\dfrac{\\partial^2 T}{\\partial x^2}$\n",
    "### $C = q, \\quad D  = \\dfrac{\\partial T}{\\partial x}, \\quad E = T$"
   ]
  },
  {
   "cell_type": "markdown",
   "id": "31a42612-584f-4779-8107-1230b7f242c9",
   "metadata": {},
   "source": [
    "La ecuación de transporte esta dada en su forma adimensional por medio de las siguientes variables adimensionales y parámetros:\n",
    "* $T$ es la temperatura\n",
    "* $t$ es el tiempo\n",
    "* $D$ es la difusividad térmica\n",
    "* $x$ es la dirección espacial x\n",
    "* $q$ es el flujo de calor\n",
    "* El parámetro $\\alpha$ es el número de Fourier $\\alpha = D t_c L^{-2}$\n",
    "* Con $t_c$ es el tiempo característico, $D$ es la difusividad térmica del material y $L$ es la longitud del material\n",
    "* El parámetro $\\beta$ es  $\\beta = l^2 D^{-1} t_c^{-1}$\n",
    "* Con $l$ la longitud libre media de los fonones\n",
    "* El parámetro $\\tau$ es el tiempo efectivo $\\tau = \\Delta t_q t_c^{-1}$\n",
    "* Con $\\Delta t_q$ es el tiempo de retardo del flujo de calor\n",
    "\n",
    "Este problema en particular se va a resolver para dos casos a las condiciones de frontera:\n",
    "\n",
    "Determinista\n",
    "* $\\quad T(x = 1, t) = 1 \\quad$ $T(x = 0, t) = \\mu_\\epsilon$\n",
    "\n",
    "Estocástico\n",
    "* $\\quad T(x = 1, t) = 1 \\quad$ $T(x = 0, t) = \\epsilon(t)$ \n",
    "\n",
    "Con $\\epsilon(t)$ ruido blanco Gaussiano y $\\mu_\\epsilon$ su promedio\n",
    "\n",
    "Y la condición inicial para ambos casos\n",
    "* $T(x, t = 0) = 1$"
   ]
  },
  {
   "cell_type": "markdown",
   "id": "a5724658-0764-4478-b3ae-6fe0782b3e0b",
   "metadata": {},
   "source": [
    "### Importación de bibliotecas y módulos"
   ]
  },
  {
   "cell_type": "code",
   "execution_count": 1,
   "id": "74862b1b-b37d-4756-98de-fdab865de9dd",
   "metadata": {},
   "outputs": [],
   "source": [
    "from IPython import display\n",
    "import ipywidgets\n",
    "import numpy as np               \n",
    "import matplotlib.pyplot as plt  \n",
    "import seaborn as sns\n",
    "from numba import jit\n",
    "import modulo_jeffreys as mjgk"
   ]
  },
  {
   "cell_type": "markdown",
   "id": "c0ddd09a-e741-465c-becb-4ed3a675a587",
   "metadata": {},
   "source": [
    "### Opciones de graficación\n",
    "Estética de las gráficas"
   ]
  },
  {
   "cell_type": "code",
   "execution_count": 2,
   "id": "f7e687b9-cb04-4fda-af28-88cc1069c49e",
   "metadata": {},
   "outputs": [],
   "source": [
    "sns.set_style(\"darkgrid\")\n",
    "sns.set_context(\"paper\", font_scale = 1.6)"
   ]
  },
  {
   "cell_type": "markdown",
   "id": "1faafaef-25af-4b6d-95b2-8a3a82c8d9da",
   "metadata": {},
   "source": [
    "## Función de simulación\n",
    "Dependiendo de la frontera, se tiene la simulacion determinista o estocastica"
   ]
  },
  {
   "cell_type": "code",
   "execution_count": 3,
   "id": "32a248fc-24ca-4178-b656-26485e5ab703",
   "metadata": {},
   "outputs": [],
   "source": [
    "@jit(nopython = True)\n",
    "def simulacion(frontera):\n",
    "    global nx, nt, alfa, tau, dx, dt, xpi, perfil_analitico, variacion_inicial\n",
    "    # Condicion inicial\n",
    "    temperatura = perfil_analitico + variacion_inicial\n",
    "    flujocalor = - mjgk.ddx(temperatura, dx, full = True)\n",
    "    u = np.zeros(nx)\n",
    "    # Inicializacion de las series de tiempo\n",
    "    serie_a = np.empty(nt)\n",
    "    serie_b = np.empty(nt)\n",
    "    serie_c = np.empty(nt)\n",
    "    serie_d = np.empty(nt)\n",
    "    serie_e = np.empty(nt)\n",
    "    # Proceso de la simulacion\n",
    "    for n in range(nt):\n",
    "        # Frontera. Al instante n se le asigna el valor correspondiente a la frontera\n",
    "        temperatura[0] = frontera[n]\n",
    "        # Calculo de u (derivada de la temperatura respecto al tiempo)\n",
    "        u = mjgk.rungekutta_u(u, temperatura, alfa, tau_q, beta, dx, dt)\n",
    "        # Calculo de la temperatura\n",
    "        temperatura = mjgk.calc_T(temperatura, u, dt)\n",
    "        # Calculo del flujo de calor\n",
    "        flujocalor = mjgk.rungekutta_q(flujocalor, temperatura, u, tau_q, beta, dx, dt)\n",
    "        # Calculo del gradiente y laplaciano de la Temperatura, y laplaciano del flujo de calor\n",
    "        lap_temperatura = mjgk.d2dx2(temperatura, dx, full = True)\n",
    "        grad_temperatura = mjgk.ddx(temperatura, dx, full = True)\n",
    "    return temperatura"
   ]
  },
  {
   "cell_type": "markdown",
   "id": "1bede6b8-ad63-49b0-b019-a71f7c291f0c",
   "metadata": {},
   "source": [
    "## Archivo del ensamble de realizaciones de la frontera"
   ]
  },
  {
   "cell_type": "code",
   "execution_count": 4,
   "id": "aed23a8f-66bf-4cf6-8b61-5ee21054ff85",
   "metadata": {},
   "outputs": [
    {
     "data": {
      "text/plain": [
       "(128, 100001)"
      ]
     },
     "execution_count": 4,
     "metadata": {},
     "output_type": "execute_result"
    }
   ],
   "source": [
    "ensamble_fronteras = np.loadtxt(\"datos/base/fronteras.csv\", delimiter = \",\")\n",
    "ensamble_fronteras.shape"
   ]
  },
  {
   "cell_type": "markdown",
   "id": "e86ab6ff-7350-43d3-968f-6f82be9d39dd",
   "metadata": {},
   "source": [
    "## Archivo de la condición inicial de la Temperatura"
   ]
  },
  {
   "cell_type": "code",
   "execution_count": 5,
   "id": "13ea804a-aae2-49c3-a4e3-1f594eb4c0e9",
   "metadata": {},
   "outputs": [
    {
     "data": {
      "text/plain": [
       "(128, 251)"
      ]
     },
     "execution_count": 5,
     "metadata": {},
     "output_type": "execute_result"
    }
   ],
   "source": [
    "condicion_inicial = np.loadtxt(\"datos/base/variacion_inicial.csv\")\n",
    "condicion_inicial.shape"
   ]
  },
  {
   "cell_type": "markdown",
   "id": "af18ca29-37a1-45b8-a1c4-536211ed169f",
   "metadata": {
    "tags": []
   },
   "source": [
    "## Dominio espacial\n",
    "\n",
    "La solución numérica del problema se presenta solo en una dimensión espacial"
   ]
  },
  {
   "cell_type": "code",
   "execution_count": 6,
   "id": "d8cb4a9d-e6ed-401c-83c7-519a50668e50",
   "metadata": {},
   "outputs": [
    {
     "data": {
      "text/plain": [
       "0.004"
      ]
     },
     "execution_count": 6,
     "metadata": {},
     "output_type": "execute_result"
    }
   ],
   "source": [
    "x = np.loadtxt(\"datos/base/espacio_simulacion.csv\")  # Vector del dominio espacial\n",
    "nx = x.size                                          # Numero de puntos en el espacio\n",
    "Lx = x[-1]                                           # Longitud del dominio espacial\n",
    "dx = x[1] - x[0]                                     # Tamaño de paso en el espacio\n",
    "dx"
   ]
  },
  {
   "cell_type": "markdown",
   "id": "e99c438b-334a-43db-b6d2-5318ef10993e",
   "metadata": {},
   "source": [
    "## Dominio temporal\n",
    "\n",
    "El tiempo que se pretende dar solución al sistema de ecuaciones"
   ]
  },
  {
   "cell_type": "code",
   "execution_count": 7,
   "id": "97599e1a-92c5-4a19-ae7f-d19d1b6c9f61",
   "metadata": {},
   "outputs": [
    {
     "data": {
      "text/plain": [
       "1e-05"
      ]
     },
     "execution_count": 7,
     "metadata": {},
     "output_type": "execute_result"
    }
   ],
   "source": [
    "t = np.loadtxt(\"datos/base/tiempo_simulacion.csv\")  # Vector del dominio temporal, contiene nt+1 puntos incluyendo el 0\n",
    "nt = ensamble_fronteras.shape[1]                    # Numero de pasos en el tiempo\n",
    "Lt = t[-1]                                          # Longitud del dominio temporal\n",
    "dt = t[1] - t[0]                                    # Tamaño de paso en el tiempo, \n",
    "dt"
   ]
  },
  {
   "cell_type": "markdown",
   "id": "9ee45a95-2bac-42a4-a58f-a486106538e3",
   "metadata": {},
   "source": [
    "## Fronteras"
   ]
  },
  {
   "cell_type": "code",
   "execution_count": 8,
   "id": "15174f33-7e92-42a1-b0cf-62db1801ce07",
   "metadata": {},
   "outputs": [],
   "source": [
    "frontera_est = ensamble_fronteras[0]\n",
    "frontera_det = np.mean(frontera_est) * np.ones(nt)"
   ]
  },
  {
   "cell_type": "markdown",
   "id": "070a32ff-84c5-426c-a987-1e8136962200",
   "metadata": {},
   "source": [
    "## Variación inicial"
   ]
  },
  {
   "cell_type": "code",
   "execution_count": 9,
   "id": "f625b2d1-af99-4f8c-bfed-e368b9873c2d",
   "metadata": {},
   "outputs": [],
   "source": [
    "variacion_inicial = condicion_inicial[0]"
   ]
  },
  {
   "cell_type": "markdown",
   "id": "f8fba434-f6bc-4966-8196-a48b2ce8dc58",
   "metadata": {
    "tags": []
   },
   "source": [
    "## Solución analítica del estado estacionario\n",
    "$ T(x) = 1 + a(1 - x)$"
   ]
  },
  {
   "cell_type": "code",
   "execution_count": 10,
   "id": "4885dcf4-09a9-4ebd-9d27-9430e7b6a719",
   "metadata": {},
   "outputs": [],
   "source": [
    "mu_frontera = np.mean(frontera_est) - 1.0\n",
    "perfil_analitico = 1.0 + mu_frontera * (1.0 - x) "
   ]
  },
  {
   "cell_type": "markdown",
   "id": "67fd3075-663e-4f61-8851-bb9e8c6bdf35",
   "metadata": {},
   "source": [
    "## Parámetros de la simulación"
   ]
  },
  {
   "cell_type": "markdown",
   "id": "df780678-01a2-408a-ab59-90b2114e8d84",
   "metadata": {},
   "source": [
    "Para los arreglos"
   ]
  },
  {
   "cell_type": "code",
   "execution_count": 11,
   "id": "b2d9b279-d342-44c8-b43e-37aa020626aa",
   "metadata": {},
   "outputs": [
    {
     "data": {
      "text/plain": [
       "0.2"
      ]
     },
     "execution_count": 11,
     "metadata": {},
     "output_type": "execute_result"
    }
   ],
   "source": [
    "xpi = int(nx / 5)                 # Punto de interes donde se capturan las series de tiempo\n",
    "nr = ensamble_fronteras.shape[0]  # Numero de realizaciones del ensamble\n",
    "x[xpi]"
   ]
  },
  {
   "cell_type": "markdown",
   "id": "32a97441-69ec-4865-abbc-5fb8e091acc5",
   "metadata": {},
   "source": [
    "Valores termodinámicos"
   ]
  },
  {
   "cell_type": "code",
   "execution_count": 12,
   "id": "3b7133f8-42f2-4adb-8483-c461b1f37b5f",
   "metadata": {},
   "outputs": [
    {
     "data": {
      "text/plain": [
       "1.0"
      ]
     },
     "execution_count": 12,
     "metadata": {},
     "output_type": "execute_result"
    }
   ],
   "source": [
    "difusividad = 1.0                         # Valor de referencia de la difusividad\n",
    "t_c = (Lx * Lx) / difusividad             # Tiempo caracteriztico\n",
    "num_alfa = difusividad * t_c / (Lx * Lx)  # Valor del parametro alfa\n",
    "t_c"
   ]
  },
  {
   "cell_type": "markdown",
   "id": "f5cb38c3-e979-414c-970d-f9fb159822ba",
   "metadata": {},
   "source": [
    "Tiempo efectivo de retardo del flujo de calor"
   ]
  },
  {
   "cell_type": "code",
   "execution_count": 13,
   "id": "3a29433c-af6e-4020-b6d3-eefbb1624d4e",
   "metadata": {},
   "outputs": [
    {
     "data": {
      "text/plain": [
       "15.0"
      ]
     },
     "execution_count": 13,
     "metadata": {},
     "output_type": "execute_result"
    }
   ],
   "source": [
    "dtq = 15.0 * dt\n",
    "tau_q = dtq / t_c\n",
    "tau_q / dt"
   ]
  },
  {
   "cell_type": "markdown",
   "id": "d706f21c-d07a-46fd-8db0-a47dd51d3e1b",
   "metadata": {},
   "source": [
    "Parametro $\\beta$"
   ]
  },
  {
   "cell_type": "code",
   "execution_count": 14,
   "id": "c61d3d86-9439-41f1-8883-d1d479a7dc15",
   "metadata": {},
   "outputs": [
    {
     "data": {
      "text/plain": [
       "0.007071067811865475"
      ]
     },
     "execution_count": 14,
     "metadata": {},
     "output_type": "execute_result"
    }
   ],
   "source": [
    "lfonon = np.sqrt(5.0 * dt)\n",
    "lfonon"
   ]
  },
  {
   "cell_type": "code",
   "execution_count": 15,
   "id": "f36f9853-e202-4527-b02b-a2b98baa914c",
   "metadata": {},
   "outputs": [
    {
     "data": {
      "text/plain": [
       "5.0"
      ]
     },
     "execution_count": 15,
     "metadata": {},
     "output_type": "execute_result"
    }
   ],
   "source": [
    "beta = (lfonon * lfonon) / (difusividad * t_c)\n",
    "beta / dt"
   ]
  },
  {
   "cell_type": "markdown",
   "id": "8d887a9f-9c47-4d02-9205-c463b6696ef3",
   "metadata": {},
   "source": [
    "Número de Fourier"
   ]
  },
  {
   "cell_type": "code",
   "execution_count": 16,
   "id": "f1502d87-0c74-463b-8e80-8b79236ce22c",
   "metadata": {},
   "outputs": [],
   "source": [
    "alfa = num_alfa * np.ones(nx)  # Vector/arreglo alfa\n",
    "alfa[0], alfa[-1] = 0, 0           # Extremos del vector/arreglo alfa"
   ]
  },
  {
   "cell_type": "markdown",
   "id": "c3ff9528-b448-4407-aa97-dd8126054d1e",
   "metadata": {
    "tags": []
   },
   "source": [
    "## Proceso principal"
   ]
  },
  {
   "cell_type": "code",
   "execution_count": 17,
   "id": "25834039-e588-49bf-ab0c-266528aa03ee",
   "metadata": {},
   "outputs": [
    {
     "name": "stdout",
     "output_type": "stream",
     "text": [
      "Terminado\n"
     ]
    }
   ],
   "source": [
    "# Fronteras\n",
    "frontera_est = ensamble_fronteras[0]\n",
    "frontera_det = np.mean(frontera_est) * np.ones(nt)\n",
    "# Simulaciones\n",
    "perfil_est = simulacion(frontera_est)\n",
    "perfil_det = simulacion(frontera_det)\n",
    "# Progreso del trabajo\n",
    "print(\"Terminado\")"
   ]
  },
  {
   "cell_type": "markdown",
   "id": "0fa6baaf-c3dd-404a-a9c3-591185b903ab",
   "metadata": {
    "tags": []
   },
   "source": [
    "## Gráficas de muestra"
   ]
  },
  {
   "cell_type": "markdown",
   "id": "c3e44767-ea08-4962-a922-0ae905f29e4b",
   "metadata": {},
   "source": [
    "### Perfil de temperatura (calibración)"
   ]
  },
  {
   "cell_type": "code",
   "execution_count": 18,
   "id": "beb11ce3-3f18-48cc-a405-ef9bcca8150d",
   "metadata": {},
   "outputs": [
    {
     "data": {
      "image/png": "[encoded data removed]",
      "text/plain": [
       "<Figure size 648x648 with 1 Axes>"
      ]
     },
     "metadata": {},
     "output_type": "display_data"
    }
   ],
   "source": [
    "plt.figure(figsize = (9, 9))\n",
    "plt.ylabel(\"$T(x)$\")\n",
    "plt.xlabel(\"$x$\")\n",
    "plt.plot(x, perfil_analitico, lw = 2.0, label = \"analytic\")\n",
    "plt.plot(x, perfil_det, c = \"black\", ls = \"dotted\", lw = 4.5, label = \"numerical\")\n",
    "plt.legend(loc = \"best\")\n",
    "plt.savefig(\"graficas/muestra/guyer/guyer_perfil_temperatura.pdf\", bbox_inches = \"tight\")\n",
    "plt.show()"
   ]
  }
 ],
 "metadata": {
  "kernelspec": {
   "display_name": "Python 3 (ipykernel)",
   "language": "python",
   "name": "python3"
  },
  "language_info": {
   "codemirror_mode": {
    "name": "ipython",
    "version": 3
   },
   "file_extension": ".py",
   "mimetype": "text/x-python",
   "name": "python",
   "nbconvert_exporter": "python",
   "pygments_lexer": "ipython3",
   "version": "3.9.12"
  }
 },
 "nbformat": 4,
 "nbformat_minor": 5
}
