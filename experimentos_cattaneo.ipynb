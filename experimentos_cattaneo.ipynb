{
 "cells": [
  {
   "cell_type": "markdown",
   "id": "d64ef82e-ebdd-43ad-850f-57416c82121e",
   "metadata": {},
   "source": [
    "# Experimentos de Maxwell - Cattaneo - Vernotte"
   ]
  },
  {
   "cell_type": "markdown",
   "id": "9aded0d7-4209-4c0b-9953-98603c48eced",
   "metadata": {
    "tags": []
   },
   "source": [
    "## Modelo de MCV\n",
    "## $$\\dfrac{\\partial T}{\\partial t} + \\tau \\dfrac{\\partial^2 T}{\\partial t^2} = \\alpha \\dfrac{\\partial^2 T}{\\partial x^2}; \\quad \\dfrac{\\partial T}{\\partial t}(t + \\tau) \\simeq \\dfrac{\\partial T}{\\partial t} + \\tau \\dfrac{\\partial^2 T}{\\partial t^2}$$\n",
    "\n",
    "## $$q + \\tau \\dfrac{\\partial q}{\\partial t} = - \\dfrac{\\partial T}{\\partial x}; \\quad q (t + \\tau) \\simeq q + \\tau \\dfrac{\\partial q}{\\partial t}$$\n",
    "\n",
    "## Con las variables causales\n",
    "### $A = \\dfrac{\\partial T}{\\partial t}, \\quad B = \\dfrac{\\partial^2 T}{\\partial x^2}$\n",
    "### $C = q, \\quad D  = \\dfrac{\\partial T}{\\partial x}, \\quad E = T$"
   ]
  },
  {
   "cell_type": "markdown",
   "id": "93841ff1-bcdc-4ada-8718-15a8f06b2694",
   "metadata": {},
   "source": [
    "La ecuación de transporte esta dada en su forma adimensional por medio de las siguientes variables adimensionales y parámetros:\n",
    "* $T$ es la temperatura\n",
    "* $t$ es el tiempo\n",
    "* $x$ es la dirección espacial x\n",
    "* $q$ es el flujo de calor\n",
    "* El parámetro $\\alpha$ es el número de Fourier $\\alpha = D t_c L^{-2}$\n",
    "* Con $t_c$ es el tiempo característico, $D$ es la difusividad térmica del material y $L$ es la longitud del material\n",
    "* El parámetro $\\tau$ es el tiempo efectivo de retardo $\\tau = \\Delta t_q t_c^{-1}$\n",
    "* Con $\\Delta t_q$ es el tiempo de retardo del flujo de calor\n",
    "\n",
    "Este problema en particular se va a resolver para dos casos a las condiciones de frontera:\n",
    "\n",
    "Determinista\n",
    "* $\\quad T(x = 1, t) = 1 \\quad$ $T(x = 0, t) = \\mu_\\epsilon$\n",
    "\n",
    "Estocástico\n",
    "* $\\quad T(x = 1, t) = 1 \\quad$ $T(x = 0, t) = \\epsilon(t)$ \n",
    "\n",
    "Con $\\epsilon(t)$ ruido blanco Gaussiano y $\\mu_\\epsilon$ su promedio\n",
    "\n",
    "Y la condición inicial para ambos casos\n",
    "* $T(x, t = 0) = 1$"
   ]
  },
  {
   "cell_type": "markdown",
   "id": "1f5df0f0-dc72-4710-bd12-1efed0179709",
   "metadata": {},
   "source": [
    "### Importación de bibliotecas y módulos"
   ]
  },
  {
   "cell_type": "code",
   "execution_count": 1,
   "id": "0ec4c3a9-2c3e-44ee-99ac-991215134f75",
   "metadata": {},
   "outputs": [],
   "source": [
    "from IPython import display\n",
    "import ipywidgets\n",
    "import numpy as np               \n",
    "import matplotlib.pyplot as plt  \n",
    "import seaborn as sns\n",
    "from numba import jit\n",
    "import modulo_cattaneo as mcv"
   ]
  },
  {
   "cell_type": "markdown",
   "id": "5c6302c1-0676-4ee8-a552-ada9cea91df9",
   "metadata": {},
   "source": [
    "### Opciones de graficación\n",
    "Estética de las gráficas"
   ]
  },
  {
   "cell_type": "code",
   "execution_count": 2,
   "id": "60a350c1-66f5-4997-b4df-c6ca07b0acc7",
   "metadata": {},
   "outputs": [],
   "source": [
    "sns.set_style(\"darkgrid\")\n",
    "sns.set_context(\"paper\", font_scale = 1.5)"
   ]
  },
  {
   "cell_type": "markdown",
   "id": "1b5b985d-7627-4070-98e8-045b8d5ed3a4",
   "metadata": {},
   "source": [
    "## Función de simulación\n",
    "Dependiendo de la frontera, se tiene la simulacion determinista o estocastica"
   ]
  },
  {
   "cell_type": "code",
   "execution_count": 3,
   "id": "569c8407-a606-41b5-a30f-cacd8d3186c9",
   "metadata": {},
   "outputs": [],
   "source": [
    "@jit(nopython = True)\n",
    "def simulacion(frontera):\n",
    "    global nx, nt, alfa, tau, dx, dt, xpi\n",
    "    # Condicion inicial\n",
    "    u = np.zeros(nx + 1)\n",
    "    flujocalor = np.zeros(nx + 1)\n",
    "    temperatura = np.ones(nx + 1)\n",
    "    # Inicializacion de las series de tiempo\n",
    "    serie_a = np.empty(nt)\n",
    "    serie_b = np.empty(nt)\n",
    "    serie_c = np.empty(nt)\n",
    "    serie_d = np.empty(nt)\n",
    "    serie_e = np.empty(nt)\n",
    "    # Proceso de la simulacion\n",
    "    for n in range(nt):\n",
    "        # Frontera. Al instante n se le asigna el valor correspondiente a la frontera\n",
    "        temperatura[0] = frontera[n]\n",
    "        # Calculo de u (derivada de la temperatura respecto al tiempo)\n",
    "        u = mcv.rungekutta_u(u, temperatura, alfa, tau, dx, dt)\n",
    "        # Calculo de la temperatura\n",
    "        temperatura = mcv.calc_T(temperatura, u, dt)\n",
    "        # Calculo del flujo de calor\n",
    "        flujocalor = mcv.rungekutta_q(flujocalor, temperatura, tau, dx, dt)\n",
    "        # Calculo del gradiente y laplaciano de la Temperatura, y laplaciano del flujo de calor\n",
    "        lap_temperatura = mcv.d2dx2(temperatura, dx, full = True)\n",
    "        grad_temperatura = mcv.ddx(temperatura, dx, full = True)\n",
    "        # Captura de las series de tiempo\n",
    "        serie_a[n] = u[xpi]\n",
    "        serie_b[n] = lap_temperatura[xpi]\n",
    "        serie_c[n] = flujocalor[xpi]\n",
    "        serie_d[n] = grad_temperatura[xpi]\n",
    "        serie_e[n] = temperatura[xpi]\n",
    "    return serie_a, serie_b, serie_c, serie_d, serie_e"
   ]
  },
  {
   "cell_type": "markdown",
   "id": "a41a19c6-cd4d-4ba0-8793-0ca2e77c9007",
   "metadata": {},
   "source": [
    "## Función de fluctuación\n",
    "Construcción de la fluctuación de una variable del modelo"
   ]
  },
  {
   "cell_type": "code",
   "execution_count": 4,
   "id": "0a7bfc43-da2d-410d-b1ba-ca134cf0c324",
   "metadata": {},
   "outputs": [],
   "source": [
    "@jit(nopython = True)\n",
    "def fluctuacion(determinista, estocastico):\n",
    "    return estocastico - determinista"
   ]
  },
  {
   "cell_type": "markdown",
   "id": "0644ce53-52c0-4e64-8b2a-237cee6d13c9",
   "metadata": {},
   "source": [
    "## Archivo del ensamble de realizaciones de la frontera"
   ]
  },
  {
   "cell_type": "code",
   "execution_count": 5,
   "id": "da7616a2-9463-4b4f-a942-6351f4f7159a",
   "metadata": {},
   "outputs": [
    {
     "data": {
      "text/plain": [
       "(100, 100001)"
      ]
     },
     "execution_count": 5,
     "metadata": {},
     "output_type": "execute_result"
    }
   ],
   "source": [
    "ensamble_fronteras = np.loadtxt(\"datos_frontera/fronteras.csv\")\n",
    "ensamble_fronteras.shape"
   ]
  },
  {
   "cell_type": "markdown",
   "id": "d686a13a-77a2-4132-a69f-0275277cc176",
   "metadata": {
    "tags": []
   },
   "source": [
    "## Dominio espacial\n",
    "\n",
    "La solución numérica del problema se presenta solo en una dimensión espacial"
   ]
  },
  {
   "cell_type": "code",
   "execution_count": 6,
   "id": "b47a31a4-c8f1-4943-ae12-ff7d88ca5212",
   "metadata": {},
   "outputs": [
    {
     "data": {
      "text/plain": [
       "0.00390625"
      ]
     },
     "execution_count": 6,
     "metadata": {},
     "output_type": "execute_result"
    }
   ],
   "source": [
    "nx = 256                        # Numero de pasos en el espacio\n",
    "Lx = 1.0                        # Longitud del dominio espacial\n",
    "x = np.linspace(0, Lx, nx + 1)  # Vector del dominio espacial, contiene nx+1 puntos incluyendo el 0\n",
    "dx = x[1] - x[0]                # Tamaño de paso en el espacio, necesario para aplicar las diferencias finitas\n",
    "dx"
   ]
  },
  {
   "cell_type": "markdown",
   "id": "54565b8a-5140-43b4-92bc-3471c44c4d39",
   "metadata": {},
   "source": [
    "## Dominio temporal\n",
    "\n",
    "El tiempo que se pretende dar solución al sistema de ecuaciones"
   ]
  },
  {
   "cell_type": "code",
   "execution_count": 7,
   "id": "f1908885-9cdd-4176-bbfa-dd06f7af5938",
   "metadata": {},
   "outputs": [
    {
     "data": {
      "text/plain": [
       "1e-05"
      ]
     },
     "execution_count": 7,
     "metadata": {},
     "output_type": "execute_result"
    }
   ],
   "source": [
    "nt = ensamble_fronteras.shape[1]  # Numero de pasos en el tiempo\n",
    "Lt = 1.0                          # Longitud del dominio temporal\n",
    "t = np.linspace(0, Lt, nt)        # Vector del dominio temporal, contiene nt+1 puntos incluyendo el 0\n",
    "dt = t[1] - t[0]                  # Tamaño de paso en el tiempo, necesario para aplicar el método de Runge-Kutta mediante el solver\n",
    "dt"
   ]
  },
  {
   "cell_type": "markdown",
   "id": "43cc5679-3c25-4a10-9346-bff7dfda23d4",
   "metadata": {},
   "source": [
    "## Parámetros de la simulación"
   ]
  },
  {
   "cell_type": "markdown",
   "id": "68ac344c-49d7-4667-a4a0-e956c3489a0a",
   "metadata": {},
   "source": [
    "Para los arreglos"
   ]
  },
  {
   "cell_type": "code",
   "execution_count": 8,
   "id": "29c2514d-462a-4c5d-aae0-43bb03b63624",
   "metadata": {},
   "outputs": [
    {
     "data": {
      "text/plain": [
       "0.19921875"
      ]
     },
     "execution_count": 8,
     "metadata": {},
     "output_type": "execute_result"
    }
   ],
   "source": [
    "xpi = int(nx / 5)                 # Punto de interes donde se capturan las series de tiempo\n",
    "nr = ensamble_fronteras.shape[0]  # Numero de realizaciones del ensamble\n",
    "x[xpi]"
   ]
  },
  {
   "cell_type": "markdown",
   "id": "b24dc85a-1db0-4c94-b88f-2250019e2140",
   "metadata": {},
   "source": [
    "Valores termodinámicos"
   ]
  },
  {
   "cell_type": "code",
   "execution_count": 9,
   "id": "6e85a42a-62a4-4b0d-b9ee-6876a2792def",
   "metadata": {},
   "outputs": [
    {
     "data": {
      "text/plain": [
       "1.0"
      ]
     },
     "execution_count": 9,
     "metadata": {},
     "output_type": "execute_result"
    }
   ],
   "source": [
    "difusividad = 1.0                         # Valor de referencia de la difusividad\n",
    "t_c = (Lx * Lx) / difusividad             # Tiempo caracteriztico\n",
    "num_alfa = difusividad * t_c / (Lx * Lx)  # Valor del parametro alfa\n",
    "t_c"
   ]
  },
  {
   "cell_type": "markdown",
   "id": "da965150-9eaa-4305-8f0b-21f2a7423033",
   "metadata": {},
   "source": [
    "Tiempo efectivo de retardo"
   ]
  },
  {
   "cell_type": "code",
   "execution_count": 10,
   "id": "f0cc8099-6bf3-499b-9f13-199f6298f1f7",
   "metadata": {},
   "outputs": [
    {
     "data": {
      "text/plain": [
       "8.0"
      ]
     },
     "execution_count": 10,
     "metadata": {},
     "output_type": "execute_result"
    }
   ],
   "source": [
    "dtq = 8.0 * dt\n",
    "tau_num = dtq / t_c\n",
    "tau = tau_num * np.ones(nx + 1)\n",
    "tau_num / dt"
   ]
  },
  {
   "cell_type": "markdown",
   "id": "d6c09e6a-dc8f-41d0-a384-4084936b08f9",
   "metadata": {},
   "source": [
    "Número de Fourier"
   ]
  },
  {
   "cell_type": "code",
   "execution_count": 11,
   "id": "78982852-ea13-4e9c-ace8-7ac58c494a4b",
   "metadata": {},
   "outputs": [],
   "source": [
    "alfa = num_alfa * np.ones(nx + 1)  # Vector/arreglo alfa\n",
    "alfa[0], alfa[-1] = 0, 0           # Extremos del vector/arreglo alfa"
   ]
  },
  {
   "cell_type": "markdown",
   "id": "75c86757-8f5f-4b56-b85d-5183c29f0e1b",
   "metadata": {},
   "source": [
    "## Inicialización"
   ]
  },
  {
   "cell_type": "code",
   "execution_count": 12,
   "id": "c25eddab-830c-48e4-9a8a-daebb057820a",
   "metadata": {},
   "outputs": [],
   "source": [
    "fluc_a = np.empty((nr, nt))\n",
    "fluc_b = np.empty((nr, nt))\n",
    "fluc_c = np.empty((nr, nt))\n",
    "fluc_d = np.empty((nr, nt))\n",
    "fluc_e = np.empty((nr, nt))\n",
    "serie_a = np.empty((nr, nt))\n",
    "serie_b = np.empty((nr, nt))\n",
    "serie_c = np.empty((nr, nt))\n",
    "serie_d = np.empty((nr, nt))\n",
    "serie_e = np.empty((nr, nt))"
   ]
  },
  {
   "cell_type": "markdown",
   "id": "bdb7da84-a830-42ba-a03a-b82f34135994",
   "metadata": {
    "tags": []
   },
   "source": [
    "## Proceso principal"
   ]
  },
  {
   "cell_type": "code",
   "execution_count": 13,
   "id": "8d612589-4958-4611-a3c8-4ca88cf87454",
   "metadata": {},
   "outputs": [
    {
     "data": {
      "application/vnd.jupyter.widget-view+json": {
       "model_id": "0e8334aef51b4ed3a453ac601ef1572f",
       "version_major": 2,
       "version_minor": 0
      },
      "text/plain": [
       "FloatProgress(value=0.0, description='Progreso:')"
      ]
     },
     "metadata": {},
     "output_type": "display_data"
    }
   ],
   "source": [
    "# Barra de progreso\n",
    "progreso = ipywidgets.FloatProgress(\n",
    "    value = 0,\n",
    "    min = 0,\n",
    "    max = nr, \n",
    "    description = 'Progreso:')\n",
    "display.display(progreso)\n",
    "\n",
    "progreso.value = 0\n",
    "for r in range(nr):\n",
    "    # Fronteras\n",
    "    frontera_est = ensamble_fronteras[r]\n",
    "    frontera_det = np.mean(frontera_est) * np.ones(nt)\n",
    "    # Simulaciones\n",
    "    a_est, b_est, c_est, d_est, e_est = simulacion(frontera_est)\n",
    "    a_det, b_det, c_det, d_det, e_det = simulacion(frontera_det)\n",
    "    # Fluctuaciones\n",
    "    fluc_a[r] = fluctuacion(a_det, a_est)\n",
    "    fluc_b[r] = fluctuacion(b_det, b_est)\n",
    "    fluc_c[r] = fluctuacion(c_det, c_est)\n",
    "    fluc_d[r] = fluctuacion(d_det, d_est)\n",
    "    fluc_e[r] = fluctuacion(e_det, e_est)\n",
    "    # Series\n",
    "    serie_a[r] = a_est\n",
    "    serie_b[r] = b_est\n",
    "    serie_c[r] = c_est\n",
    "    serie_d[r] = d_est\n",
    "    serie_e[r] = e_est\n",
    "    # Progreso del trabajo\n",
    "    progreso.value = r + 1"
   ]
  },
  {
   "cell_type": "markdown",
   "id": "41a3f4a7-ac40-4982-86fd-521de7487fbd",
   "metadata": {
    "tags": []
   },
   "source": [
    "## Archivos"
   ]
  },
  {
   "cell_type": "code",
   "execution_count": 14,
   "id": "1b841727-264a-4012-acd3-c1591b13b403",
   "metadata": {},
   "outputs": [],
   "source": [
    "ruta = \"datos_experimentos_cattaneo/\"\n",
    "np.savetxt(ruta + \"a_serie.csv\", serie_a)\n",
    "np.savetxt(ruta + \"b_serie.csv\", serie_b)\n",
    "np.savetxt(ruta + \"c_serie.csv\", serie_c)\n",
    "np.savetxt(ruta + \"d_serie.csv\", serie_d)\n",
    "np.savetxt(ruta + \"e_serie.csv\", serie_e)\n",
    "np.savetxt(ruta + \"a_fluc.csv\", fluc_a)\n",
    "np.savetxt(ruta + \"b_fluc.csv\", fluc_b)\n",
    "np.savetxt(ruta + \"c_fluc.csv\", fluc_c)\n",
    "np.savetxt(ruta + \"d_fluc.csv\", fluc_d)\n",
    "np.savetxt(ruta + \"e_fluc.csv\", fluc_e)"
   ]
  }
 ],
 "metadata": {
  "kernelspec": {
   "display_name": "Python 3 (ipykernel)",
   "language": "python",
   "name": "python3"
  },
  "language_info": {
   "codemirror_mode": {
    "name": "ipython",
    "version": 3
   },
   "file_extension": ".py",
   "mimetype": "text/x-python",
   "name": "python",
   "nbconvert_exporter": "python",
   "pygments_lexer": "ipython3",
   "version": "3.9.11"
  }
 },
 "nbformat": 4,
 "nbformat_minor": 5
}
