{
 "cells": [
  {
   "cell_type": "markdown",
   "id": "552858c2-e596-46f3-abda-13878a3eac97",
   "metadata": {},
   "source": [
    "## Importación de bibliotecas"
   ]
  },
  {
   "cell_type": "code",
   "execution_count": 1,
   "id": "e22201e4-8b24-46e7-85a5-efa26342ae6f",
   "metadata": {},
   "outputs": [],
   "source": [
    "import numpy as np"
   ]
  },
  {
   "cell_type": "markdown",
   "id": "313d271f-3ddd-45c9-ba27-bf4fe8781394",
   "metadata": {},
   "source": [
    "## Ruta de archivos"
   ]
  },
  {
   "cell_type": "code",
   "execution_count": 2,
   "id": "599e5468-6cb2-4263-b0ca-d67dd1cc2189",
   "metadata": {},
   "outputs": [],
   "source": [
    "ruta = \"datos/caracter_entropia_validacion/\""
   ]
  },
  {
   "cell_type": "markdown",
   "id": "eaa471a1-2cfb-4cdb-94b4-c9ef4669eef6",
   "metadata": {},
   "source": [
    "## \"Metadatos\""
   ]
  },
  {
   "cell_type": "code",
   "execution_count": 3,
   "id": "5eec7340-d4d9-4564-8f72-35801be5f979",
   "metadata": {},
   "outputs": [],
   "source": [
    "modelos = [\"00\", \"01\", \"02\", \"03\", \"04\", \"05\"]\n",
    "casos = [\"xy\", \"yx\", \"xy-yx\", \"yx-xy\"]"
   ]
  },
  {
   "cell_type": "markdown",
   "id": "c4ac7f36-7bfb-4143-aee0-9f793bf6dde7",
   "metadata": {},
   "source": [
    "## Construcción del diccionario del error y promedio"
   ]
  },
  {
   "cell_type": "code",
   "execution_count": 4,
   "id": "54b56f7f-c9be-473b-b983-185f6b794034",
   "metadata": {},
   "outputs": [],
   "source": [
    "error = {}\n",
    "promedio = {}\n",
    "for m in modelos:\n",
    "    error[m] = {}\n",
    "    promedio[m] = {}\n",
    "    for c in casos:\n",
    "        error[m][c] = np.abs(np.loadtxt(ruta + \"error_\" + m + \"_\" + c + \".csv\")).max()\n",
    "        promedio[m][c] = np.abs(np.loadtxt(ruta + \"promedio_\" + m + \"_\" + c + \".csv\")).max()"
   ]
  },
  {
   "cell_type": "markdown",
   "id": "11af5a2d-4c9b-47d1-b7d6-b143fac36a4e",
   "metadata": {},
   "source": [
    "## Valores máximos del error"
   ]
  },
  {
   "cell_type": "code",
   "execution_count": 5,
   "id": "6ae28f66-df68-4a44-be4f-d85ca7b95415",
   "metadata": {},
   "outputs": [
    {
     "name": "stdout",
     "output_type": "stream",
     "text": [
      "00\n",
      "\txy:  2.477104e-05\n",
      "\tyx:  2.559756e-05\n",
      "\txy-yx:  3.463522e-05\n",
      "\tyx-xy:  3.463522e-05\n",
      "01\n",
      "\txy:  0.00023550637\n",
      "\tyx:  0.00023550637\n",
      "\txy-yx:  0.0\n",
      "\tyx-xy:  0.0\n",
      "02\n",
      "\txy:  0.00024684643\n",
      "\tyx:  2.529388e-05\n",
      "\txy-yx:  0.00024459752\n",
      "\tyx-xy:  0.00024459752\n",
      "03\n",
      "\txy:  0.00048466843\n",
      "\tyx:  2.422102e-05\n",
      "\txy-yx:  0.00048721825\n",
      "\tyx-xy:  0.00048721825\n",
      "04\n",
      "\txy:  0.00052477584\n",
      "\tyx:  0.00052558595\n",
      "\txy-yx:  0.00053890199\n",
      "\tyx-xy:  0.00053890199\n",
      "05\n",
      "\txy:  0.00055462933\n",
      "\tyx:  0.00038091298\n",
      "\txy-yx:  0.00055435098\n",
      "\tyx-xy:  0.00055435098\n",
      "\n",
      " Máximo error:  0.000554629332640212\n"
     ]
    }
   ],
   "source": [
    "ve = np.empty(0)\n",
    "for m in modelos:\n",
    "    print(m)\n",
    "    for c in casos:\n",
    "        e = error[m][c]**0.5\n",
    "        print(\"\\t\" + c + \": \", np.around(e, decimals = 11))\n",
    "        ve = np.append(ve, e)\n",
    "\n",
    "print(\"\\n\", \"Máximo error: \", ve.max())"
   ]
  },
  {
   "cell_type": "markdown",
   "id": "238dbde8-5110-41a4-9998-7b146a597a40",
   "metadata": {},
   "source": [
    "## Porcentajes máximos del error respecto al valor promedio"
   ]
  },
  {
   "cell_type": "code",
   "execution_count": 6,
   "id": "30eb7736-2b5f-46e2-901a-c33cb661786a",
   "metadata": {},
   "outputs": [
    {
     "name": "stdout",
     "output_type": "stream",
     "text": [
      "00\n",
      "\txy:  0.6125724320619922\n",
      "\tyx:  0.6307303337446246\n",
      "\txy-yx:  50.2869983559703\n",
      "\tyx-xy:  50.2869983559703\n",
      "01\n",
      "\txy:  0.011450081435388691\n",
      "\tyx:  0.011450081435388691\n",
      "\txy-yx:  0\n",
      "\tyx-xy:  0\n",
      "02\n",
      "\txy:  0.012003757811143892\n",
      "\tyx:  0.6252233540710969\n",
      "\txy-yx:  0.011917541332491786\n",
      "\tyx-xy:  0.011917541332491786\n",
      "03\n",
      "\txy:  0.05891409871694238\n",
      "\tyx:  0.5994414998449121\n",
      "\txy-yx:  0.05951310166277688\n",
      "\tyx-xy:  0.05951310166277688\n",
      "04\n",
      "\txy:  0.025527720437263986\n",
      "\tyx:  0.06386204492523152\n",
      "\txy-yx:  0.026303318896454903\n",
      "\tyx-xy:  0.026303318896454903\n",
      "05\n",
      "\txy:  0.06746399033101784\n",
      "\tyx:  0.10030678855358514\n",
      "\txy-yx:  0.06782054080466453\n",
      "\tyx-xy:  0.06782054080466453\n",
      "\n",
      "Máximo % error:  50.2869983559703\n",
      "Máximo % error sin contar el outlier del experimento 00:  0.6307303337446246\n"
     ]
    }
   ],
   "source": [
    "vpe = np.empty(0)\n",
    "for m in modelos:\n",
    "    print(m)\n",
    "    for c in casos:\n",
    "        e = error[m][c] ** 0.5\n",
    "        p = promedio[m][c]\n",
    "        if p == 0:\n",
    "            pe = 0\n",
    "        else:\n",
    "            pe = (100 * e) / p\n",
    "        print(\"\\t\" + c + \": \", pe)\n",
    "        vpe = np.append(vpe, pe)\n",
    "\n",
    "print(\"\")\n",
    "print(\"Máximo % error: \", vpe.max())\n",
    "print(\"Máximo % error sin contar el outlier del experimento 00: \", vpe[vpe < vpe.max()].max())"
   ]
  },
  {
   "cell_type": "code",
   "execution_count": null,
   "id": "a9f6a22b-fcad-495e-b767-e33b3f26f62d",
   "metadata": {},
   "outputs": [],
   "source": []
  }
 ],
 "metadata": {
  "kernelspec": {
   "display_name": "Python 3 (ipykernel)",
   "language": "python",
   "name": "python3"
  },
  "language_info": {
   "codemirror_mode": {
    "name": "ipython",
    "version": 3
   },
   "file_extension": ".py",
   "mimetype": "text/x-python",
   "name": "python",
   "nbconvert_exporter": "python",
   "pygments_lexer": "ipython3",
   "version": "3.9.12"
  }
 },
 "nbformat": 4,
 "nbformat_minor": 5
}
