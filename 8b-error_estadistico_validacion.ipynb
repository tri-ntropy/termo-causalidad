{
 "cells": [
  {
   "cell_type": "markdown",
   "id": "552858c2-e596-46f3-abda-13878a3eac97",
   "metadata": {},
   "source": [
    "## Importación de bibliotecas"
   ]
  },
  {
   "cell_type": "code",
   "execution_count": 1,
   "id": "e22201e4-8b24-46e7-85a5-efa26342ae6f",
   "metadata": {},
   "outputs": [],
   "source": [
    "import numpy as np"
   ]
  },
  {
   "cell_type": "markdown",
   "id": "313d271f-3ddd-45c9-ba27-bf4fe8781394",
   "metadata": {},
   "source": [
    "## Ruta de archivos"
   ]
  },
  {
   "cell_type": "code",
   "execution_count": 2,
   "id": "599e5468-6cb2-4263-b0ca-d67dd1cc2189",
   "metadata": {},
   "outputs": [],
   "source": [
    "ruta = \"datos/caracter_entropia_validacion/\""
   ]
  },
  {
   "cell_type": "markdown",
   "id": "eaa471a1-2cfb-4cdb-94b4-c9ef4669eef6",
   "metadata": {},
   "source": [
    "## \"Metadatos\""
   ]
  },
  {
   "cell_type": "code",
   "execution_count": 3,
   "id": "5eec7340-d4d9-4564-8f72-35801be5f979",
   "metadata": {},
   "outputs": [],
   "source": [
    "modelos = [\"00\", \"01\", \"02\", \"03\", \"04\", \"05\"]\n",
    "casos = [\"xy\", \"yx\", \"xy-yx\", \"yx-xy\"]"
   ]
  },
  {
   "cell_type": "markdown",
   "id": "c4ac7f36-7bfb-4143-aee0-9f793bf6dde7",
   "metadata": {},
   "source": [
    "## Construcción del diccionario del error y promedio"
   ]
  },
  {
   "cell_type": "code",
   "execution_count": 4,
   "id": "54b56f7f-c9be-473b-b983-185f6b794034",
   "metadata": {},
   "outputs": [],
   "source": [
    "error = {}\n",
    "promedio = {}\n",
    "for m in modelos:\n",
    "    error[m] = {}\n",
    "    promedio[m] = {}\n",
    "    for c in casos:\n",
    "        error[m][c] = np.abs(np.loadtxt(ruta + \"error_\" + m + \"_\" + c + \".csv\")).max()\n",
    "        promedio[m][c] = np.abs(np.loadtxt(ruta + \"promedio_\" + m + \"_\" + c + \".csv\")).max()"
   ]
  },
  {
   "cell_type": "markdown",
   "id": "11af5a2d-4c9b-47d1-b7d6-b143fac36a4e",
   "metadata": {},
   "source": [
    "## Valores máximos del error"
   ]
  },
  {
   "cell_type": "code",
   "execution_count": 5,
   "id": "6ae28f66-df68-4a44-be4f-d85ca7b95415",
   "metadata": {},
   "outputs": [
    {
     "name": "stdout",
     "output_type": "stream",
     "text": [
      "00\n",
      "\txy:  6.208444e-05\n",
      "\tyx:  6.168804e-05\n",
      "\txy-yx:  8.747942e-05\n",
      "\tyx-xy:  8.747942e-05\n",
      "01\n",
      "\txy:  0.00035371686\n",
      "\tyx:  0.00035371686\n",
      "\txy-yx:  0.0\n",
      "\tyx-xy:  0.0\n",
      "02\n",
      "\txy:  0.00037040686\n",
      "\tyx:  6.090187e-05\n",
      "\txy-yx:  0.00037747005\n",
      "\tyx-xy:  0.00037747005\n",
      "03\n",
      "\txy:  0.00079686862\n",
      "\tyx:  6.188389e-05\n",
      "\txy-yx:  0.00079761681\n",
      "\tyx-xy:  0.00079761681\n",
      "04\n",
      "\txy:  0.00078851393\n",
      "\tyx:  0.00079041802\n",
      "\txy-yx:  0.00078853309\n",
      "\tyx-xy:  0.00078853309\n",
      "05\n",
      "\txy:  0.0007540778\n",
      "\tyx:  0.00061522755\n",
      "\txy-yx:  0.00075216906\n",
      "\tyx-xy:  0.00075216906\n",
      "\n",
      " Máximo error:  0.0007976168069639923\n"
     ]
    }
   ],
   "source": [
    "ve = np.empty(0)\n",
    "for m in modelos:\n",
    "    print(m)\n",
    "    for c in casos:\n",
    "        e = error[m][c]**0.5\n",
    "        print(\"\\t\" + c + \": \", np.around(e, decimals = 11))\n",
    "        ve = np.append(ve, e)\n",
    "\n",
    "print(\"\\n\", \"Máximo error: \", ve.max())"
   ]
  },
  {
   "cell_type": "markdown",
   "id": "238dbde8-5110-41a4-9998-7b146a597a40",
   "metadata": {},
   "source": [
    "## Porcentajes máximos del error respecto al valor promedio"
   ]
  },
  {
   "cell_type": "code",
   "execution_count": 6,
   "id": "30eb7736-2b5f-46e2-901a-c33cb661786a",
   "metadata": {},
   "outputs": [
    {
     "name": "stdout",
     "output_type": "stream",
     "text": [
      "00\n",
      "\txy:  0.6137289991527477\n",
      "\tyx:  0.6090536246640731\n",
      "\txy-yx:  56.59248583231379\n",
      "\tyx-xy:  56.59248583231379\n",
      "01\n",
      "\txy:  0.017196994180282844\n",
      "\tyx:  0.017196994180282844\n",
      "\txy-yx:  0\n",
      "\tyx-xy:  0\n",
      "02\n",
      "\txy:  0.018023344836306514\n",
      "\tyx:  0.6007425358491366\n",
      "\txy-yx:  0.018457328815825364\n",
      "\tyx-xy:  0.018457328815825364\n",
      "03\n",
      "\txy:  0.09617241874373054\n",
      "\tyx:  0.6115082567570678\n",
      "\txy-yx:  0.09743110385470838\n",
      "\tyx-xy:  0.09743110385470838\n",
      "04\n",
      "\txy:  0.03839343050233278\n",
      "\tyx:  0.09547027394672318\n",
      "\txy-yx:  0.03871721424569094\n",
      "\tyx-xy:  0.03871721424569094\n",
      "05\n",
      "\txy:  0.09100313146610782\n",
      "\tyx:  0.15966840145679229\n",
      "\txy-yx:  0.09206969651785123\n",
      "\tyx-xy:  0.09206969651785123\n",
      "\n",
      "Máximo % error:  56.59248583231379\n",
      "Máximo % error sin contar el outlier del experimento 00:  0.6137289991527477\n"
     ]
    }
   ],
   "source": [
    "vpe = np.empty(0)\n",
    "for m in modelos:\n",
    "    print(m)\n",
    "    for c in casos:\n",
    "        e = error[m][c] ** 0.5\n",
    "        p = promedio[m][c]\n",
    "        if p == 0:\n",
    "            pe = 0\n",
    "        else:\n",
    "            pe = (100 * e) / p\n",
    "        print(\"\\t\" + c + \": \", pe)\n",
    "        vpe = np.append(vpe, pe)\n",
    "\n",
    "print(\"\")\n",
    "print(\"Máximo % error: \", vpe.max())\n",
    "print(\"Máximo % error sin contar el outlier del experimento 00: \", vpe[vpe < vpe.max()].max())"
   ]
  },
  {
   "cell_type": "code",
   "execution_count": null,
   "id": "a9f6a22b-fcad-495e-b767-e33b3f26f62d",
   "metadata": {},
   "outputs": [],
   "source": []
  }
 ],
 "metadata": {
  "kernelspec": {
   "display_name": "Python 3 (ipykernel)",
   "language": "python",
   "name": "python3"
  },
  "language_info": {
   "codemirror_mode": {
    "name": "ipython",
    "version": 3
   },
   "file_extension": ".py",
   "mimetype": "text/x-python",
   "name": "python",
   "nbconvert_exporter": "python",
   "pygments_lexer": "ipython3",
   "version": "3.9.12"
  }
 },
 "nbformat": 4,
 "nbformat_minor": 5
}
