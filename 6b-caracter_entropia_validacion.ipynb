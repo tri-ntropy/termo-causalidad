{
 "cells": [
  {
   "cell_type": "markdown",
   "id": "f5d4327e-be14-4ae1-97cc-6d7f0a107e33",
   "metadata": {},
   "source": [
    "# Caracterización estadística de la entropia de transferencia simbólica para los experimentos de validación - promedio y error cuadrátrico medio"
   ]
  },
  {
   "cell_type": "markdown",
   "id": "13738b84-df13-4920-aa11-a88a41e9df34",
   "metadata": {},
   "source": [
    "## Importación de bibliotecas"
   ]
  },
  {
   "cell_type": "code",
   "execution_count": 1,
   "id": "f1ec0d87-90b4-4eca-95eb-06007a5f67b9",
   "metadata": {},
   "outputs": [],
   "source": [
    "import numpy as np\n",
    "import os"
   ]
  },
  {
   "cell_type": "markdown",
   "id": "813fe501-baf6-475a-90d4-733c3906a164",
   "metadata": {},
   "source": [
    "## Lectura de archivos"
   ]
  },
  {
   "cell_type": "code",
   "execution_count": 2,
   "id": "77cc802c-da4f-413f-b38d-cd02c7122a2f",
   "metadata": {},
   "outputs": [],
   "source": [
    "ruta = \"datos/entropia_validacion/\"\n",
    "parejas_variables = [\"xy\", \"yx\"]\n",
    "experimentos = [\"00\", \"01\", \"02\", \"03\", \"04\", \"05\"]\n",
    "\n",
    "lista_archivos = [a for a in os.listdir(ruta) if a.endswith(\".csv\")]"
   ]
  },
  {
   "cell_type": "markdown",
   "id": "79373063-b44f-471c-adef-b3da00f4b974",
   "metadata": {},
   "source": [
    "## Promedio y error de cada caso $xy$, $yx$"
   ]
  },
  {
   "cell_type": "code",
   "execution_count": 3,
   "id": "50c8459c-22f6-4e66-8977-b93dec22e618",
   "metadata": {},
   "outputs": [],
   "source": [
    "error = {}\n",
    "promedio = {}\n",
    "for experimento in experimentos:\n",
    "    error[experimento] = {}\n",
    "    promedio[experimento] = {}\n",
    "    for pareja in parejas_variables:\n",
    "        datos = np.loadtxt(\n",
    "            ruta +\n",
    "            [a for a in lista_archivos\n",
    "             if a.startswith(experimento) and a.endswith(pareja + \".csv\")\n",
    "            ][0], delimiter = \",\")[:, 1:]\n",
    "        promedio[experimento][pareja] = datos.mean(axis = 0)\n",
    "        error[experimento][pareja] = datos.var(axis = 0, ddof = 0) / datos.shape[0]"
   ]
  },
  {
   "cell_type": "markdown",
   "id": "d04bd347-a31e-4586-97af-98060df4f41f",
   "metadata": {},
   "source": [
    "## Promedio y error de las diferencias $xy - yx$, $yx - xy$"
   ]
  },
  {
   "cell_type": "code",
   "execution_count": 4,
   "id": "5d45bfb2-5c83-4320-8f84-6797176210ba",
   "metadata": {},
   "outputs": [],
   "source": [
    "error_diferencia = {}\n",
    "promedio_diferencia = {}\n",
    "pareja_xyyx = parejas_variables[0] + \"-\" + parejas_variables[1]\n",
    "pareja_yxxy = parejas_variables[1] + \"-\" + parejas_variables[0]\n",
    "for experimento in experimentos:\n",
    "    error_diferencia[experimento] = {}\n",
    "    promedio_diferencia[experimento] = {}\n",
    "    datos_xy = np.loadtxt(\n",
    "        ruta +\n",
    "        [a for a in lista_archivos\n",
    "         if a.startswith(experimento) and a.endswith(parejas_variables[0] + \".csv\") \n",
    "        ][0], delimiter = \",\")[:, 1:]\n",
    "    datos_yx = np.loadtxt(\n",
    "        ruta +\n",
    "        [a for a in lista_archivos\n",
    "         if a.startswith(experimento) and a.endswith(parejas_variables[1] + \".csv\") \n",
    "        ][0], delimiter = \",\")[:, 1:]\n",
    "    datos_xyyx = datos_xy - datos_yx\n",
    "    datos_yxxy = datos_yx - datos_xy\n",
    "    promedio_diferencia[experimento][pareja_xyyx] = datos_xyyx.mean(axis = 0)\n",
    "    promedio_diferencia[experimento][pareja_yxxy] = datos_yxxy.mean(axis = 0)\n",
    "    error_diferencia[experimento][pareja_xyyx] = datos_xyyx.var(axis = 0, ddof = 0) / datos_xyyx.shape[0]\n",
    "    error_diferencia[experimento][pareja_yxxy] = datos_yxxy.var(axis = 0, ddof = 0) / datos_yxxy.shape[0]"
   ]
  },
  {
   "cell_type": "markdown",
   "id": "8c00e6a5-6076-4da9-890a-7f94c5689675",
   "metadata": {},
   "source": [
    "## Escritura de archivos"
   ]
  },
  {
   "cell_type": "code",
   "execution_count": 5,
   "id": "286074a6-0fe9-40f4-a379-4b62c9f36c90",
   "metadata": {},
   "outputs": [],
   "source": [
    "ruta = \"datos/caracter_entropia_validacion/\"\n",
    "for experimento in experimentos:\n",
    "    for pareja in parejas_variables:\n",
    "        np.savetxt(ruta + \"error_\" + experimento + \"_\" + pareja + \".csv\", error[experimento][pareja])\n",
    "        np.savetxt(ruta + \"promedio_\" + experimento + \"_\" + pareja + \".csv\", promedio[experimento][pareja])\n",
    "    np.savetxt(ruta + \"error_\" + experimento + \"_\" + pareja_xyyx + \".csv\", error_diferencia[experimento][pareja_xyyx])\n",
    "    np.savetxt(ruta + \"error_\" + experimento + \"_\" + pareja_yxxy + \".csv\", error_diferencia[experimento][pareja_yxxy])\n",
    "    np.savetxt(ruta + \"promedio_\" + experimento + \"_\" + pareja_xyyx + \".csv\", promedio_diferencia[experimento][pareja_xyyx])\n",
    "    np.savetxt(ruta + \"promedio_\" + experimento + \"_\" + pareja_yxxy + \".csv\", promedio_diferencia[experimento][pareja_yxxy])"
   ]
  }
 ],
 "metadata": {
  "kernelspec": {
   "display_name": "Python 3 (ipykernel)",
   "language": "python",
   "name": "python3"
  },
  "language_info": {
   "codemirror_mode": {
    "name": "ipython",
    "version": 3
   },
   "file_extension": ".py",
   "mimetype": "text/x-python",
   "name": "python",
   "nbconvert_exporter": "python",
   "pygments_lexer": "ipython3",
   "version": "3.9.12"
  }
 },
 "nbformat": 4,
 "nbformat_minor": 5
}
