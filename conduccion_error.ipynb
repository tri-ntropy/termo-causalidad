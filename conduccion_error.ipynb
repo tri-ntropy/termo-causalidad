{
 "cells": [
  {
   "cell_type": "markdown",
   "id": "552858c2-e596-46f3-abda-13878a3eac97",
   "metadata": {},
   "source": [
    "## Importación de bibliotecas"
   ]
  },
  {
   "cell_type": "code",
   "execution_count": 1,
   "id": "e22201e4-8b24-46e7-85a5-efa26342ae6f",
   "metadata": {},
   "outputs": [],
   "source": [
    "from IPython import display\n",
    "import ipywidgets\n",
    "import numpy as np\n",
    "import matplotlib.pyplot as plt\n",
    "import seaborn as sns"
   ]
  },
  {
   "cell_type": "markdown",
   "id": "102b793d-c886-44b7-8eed-4b5f1c58c1df",
   "metadata": {},
   "source": [
    "### Opciones de graficación\n",
    "Estética de las gráficas"
   ]
  },
  {
   "cell_type": "code",
   "execution_count": 2,
   "id": "829893a3-499c-44fd-b7a8-d28d933f374b",
   "metadata": {},
   "outputs": [],
   "source": [
    "sns.set_style(\"darkgrid\")\n",
    "sns.set_context(\"paper\", font_scale = 1.6)"
   ]
  },
  {
   "cell_type": "markdown",
   "id": "313d271f-3ddd-45c9-ba27-bf4fe8781394",
   "metadata": {},
   "source": [
    "## Lectura de archivos"
   ]
  },
  {
   "cell_type": "code",
   "execution_count": 22,
   "id": "599e5468-6cb2-4263-b0ca-d67dd1cc2189",
   "metadata": {},
   "outputs": [],
   "source": [
    "modelo = \"guyer\"\n",
    "ruta = \"datos_experimentos_\" + modelo + \"/\"\n",
    "variable_x = \"c_fluc\"\n",
    "variable_y = \"e_fluc\"\n",
    "lista_x = np.loadtxt(ruta + variable_x + \".csv\")\n",
    "lista_y = np.loadtxt(ruta + variable_y + \".csv\")\n",
    "nlista = lista_x.shape[0]\n",
    "nt = lista_x.shape[1]\n",
    "t = np.linspace(0, 1, nt)"
   ]
  },
  {
   "cell_type": "code",
   "execution_count": 23,
   "id": "c0913a72-efdc-42c6-85bd-ff12b9080524",
   "metadata": {},
   "outputs": [],
   "source": [
    "error_flujocalor = np.var(lista_x, axis = 0, ddof = 1) / nlista\n",
    "error_temperatura = np.var(lista_y, axis = 0, ddof = 1) / nlista"
   ]
  },
  {
   "cell_type": "code",
   "execution_count": 24,
   "id": "824831c9-9725-4b50-801c-6e49d9691a6e",
   "metadata": {},
   "outputs": [
    {
     "data": {
      "text/plain": [
       "6.21e-08"
      ]
     },
     "execution_count": 24,
     "metadata": {},
     "output_type": "execute_result"
    }
   ],
   "source": [
    "np.round(error_flujocalor.max(), 10)"
   ]
  },
  {
   "cell_type": "code",
   "execution_count": 25,
   "id": "d6876c5e-a30d-4635-80ca-de740a9bbd29",
   "metadata": {},
   "outputs": [
    {
     "data": {
      "text/plain": [
       "6.24e-10"
      ]
     },
     "execution_count": 25,
     "metadata": {},
     "output_type": "execute_result"
    }
   ],
   "source": [
    "np.round(error_temperatura.max(), 12)"
   ]
  }
 ],
 "metadata": {
  "kernelspec": {
   "display_name": "Python 3 (ipykernel)",
   "language": "python",
   "name": "python3"
  },
  "language_info": {
   "codemirror_mode": {
    "name": "ipython",
    "version": 3
   },
   "file_extension": ".py",
   "mimetype": "text/x-python",
   "name": "python",
   "nbconvert_exporter": "python",
   "pygments_lexer": "ipython3",
   "version": "3.9.11"
  }
 },
 "nbformat": 4,
 "nbformat_minor": 5
}
