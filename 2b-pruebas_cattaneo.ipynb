{
 "cells": [
  {
   "cell_type": "markdown",
   "id": "1e63c933-b557-406f-be1c-a866041c64cc",
   "metadata": {},
   "source": [
    "# Pruebas de Maxwell - Cattaneo - Vernotte"
   ]
  },
  {
   "cell_type": "markdown",
   "id": "6f2de5f2-97a7-4bf1-93fd-e95531f84de3",
   "metadata": {
    "tags": []
   },
   "source": [
    "## Modelo de MCV\n",
    "## $$\\dfrac{\\partial T}{\\partial t} + \\tau \\dfrac{\\partial^2 T}{\\partial t^2} = \\alpha \\dfrac{\\partial^2 T}{\\partial x^2}; \\quad \\dfrac{\\partial T}{\\partial t}(t + \\tau) \\simeq \\dfrac{\\partial T}{\\partial t} + \\tau \\dfrac{\\partial^2 T}{\\partial t^2}$$\n",
    "\n",
    "## $$q + \\tau \\dfrac{\\partial q}{\\partial t} = - \\dfrac{\\partial T}{\\partial x}; \\quad q (t + \\tau) \\simeq q + \\tau \\dfrac{\\partial q}{\\partial t}$$\n",
    "\n",
    "## Con las variables causales\n",
    "### $A = \\dfrac{\\partial T}{\\partial t}, \\quad B = \\dfrac{\\partial^2 T}{\\partial x^2}$\n",
    "### $C = q, \\quad D  = \\dfrac{\\partial T}{\\partial x}, \\quad E = T$"
   ]
  },
  {
   "cell_type": "markdown",
   "id": "8b477969-03cd-444b-994c-19a7d424f274",
   "metadata": {},
   "source": [
    "La ecuación de transporte esta dada en su forma adimensional por medio de las siguientes variables adimensionales y parámetros:\n",
    "* $T$ es la temperatura\n",
    "* $t$ es el tiempo\n",
    "* $x$ es la dirección espacial x\n",
    "* $q$ es el flujo de calor\n",
    "* El parámetro $\\alpha$ es el número de Fourier $\\alpha = D t_c L^{-2}$\n",
    "* Con $t_c$ es el tiempo característico, $D$ es la difusividad térmica del material y $L$ es la longitud del material\n",
    "* El parámetro $\\tau$ es el tiempo efectivo de retardo $\\tau = \\Delta t_q t_c^{-1}$\n",
    "* Con $\\Delta t_q$ es el tiempo de retardo del flujo de calor\n",
    "\n",
    "Este problema en particular se va a resolver para dos casos a las condiciones de frontera:\n",
    "\n",
    "Determinista\n",
    "* $\\quad T(x = 1, t) = 1 \\quad$ $T(x = 0, t) = \\mu_\\epsilon$\n",
    "\n",
    "Estocástico\n",
    "* $\\quad T(x = 1, t) = 1 \\quad$ $T(x = 0, t) = \\epsilon(t)$ \n",
    "\n",
    "Con $\\epsilon(t)$ ruido blanco Gaussiano y $\\mu_\\epsilon$ su promedio\n",
    "\n",
    "Y la condición inicial para ambos casos\n",
    "* $T(x, t = 0) = 1$"
   ]
  },
  {
   "cell_type": "markdown",
   "id": "5ef8b1f7-d1d8-434d-b6a4-c5bfebf45cd5",
   "metadata": {},
   "source": [
    "### Importación de bibliotecas y módulos"
   ]
  },
  {
   "cell_type": "code",
   "execution_count": 1,
   "id": "049dccfb-62e1-45a7-b6af-aac7d83b30fb",
   "metadata": {},
   "outputs": [],
   "source": [
    "from IPython import display\n",
    "import ipywidgets\n",
    "import numpy as np               \n",
    "import matplotlib.pyplot as plt  \n",
    "import seaborn as sns\n",
    "from numba import jit\n",
    "import modulo_cattaneo as mcv"
   ]
  },
  {
   "cell_type": "markdown",
   "id": "2952ab2b-3e96-48b6-8858-16a4c7c4ead1",
   "metadata": {},
   "source": [
    "### Opciones de graficación\n",
    "Estética de las gráficas"
   ]
  },
  {
   "cell_type": "code",
   "execution_count": 2,
   "id": "a613e65f-f8fd-4293-abad-d5511d2a6fcb",
   "metadata": {},
   "outputs": [],
   "source": [
    "sns.set_style(\"darkgrid\")\n",
    "sns.set_context(\"paper\", font_scale = 1.6)"
   ]
  },
  {
   "cell_type": "markdown",
   "id": "3dd29a65-7cf1-40e8-9346-a9d437d09d5c",
   "metadata": {},
   "source": [
    "## Función de simulación\n",
    "Dependiendo de la frontera, se tiene la simulacion determinista o estocastica"
   ]
  },
  {
   "cell_type": "code",
   "execution_count": 3,
   "id": "620ea72a-52d0-4d7b-a6d5-05c2f27a6359",
   "metadata": {},
   "outputs": [],
   "source": [
    "#@jit(nopython = True)\n",
    "def simulacion(frontera):\n",
    "    global nx, nt, alfa, tau, dx, dt, xpi, perfil_analitico, variacion_inicial\n",
    "    # Condicion inicial\n",
    "    temperatura = perfil_analitico + variacion_inicial\n",
    "    flujocalor = - mcv.ddx(temperatura, dx, full = True)\n",
    "    u = np.zeros(nx)\n",
    "    # Inicializacion de las series de tiempo\n",
    "    serie_a = np.empty(nt)\n",
    "    serie_b = np.empty(nt)\n",
    "    serie_c = np.empty(nt)\n",
    "    serie_d = np.empty(nt)\n",
    "    serie_e = np.empty(nt)\n",
    "    # Proceso de la simulacion\n",
    "    for n in range(nt):\n",
    "        # Frontera. Al instante n se le asigna el valor correspondiente a la frontera\n",
    "        temperatura[0] = frontera[n]\n",
    "        # Calculo de u (derivada de la temperatura respecto al tiempo)\n",
    "        u = mcv.rungekutta_u(u, temperatura, alfa, tau, dx, dt)\n",
    "        # Calculo de la temperatura\n",
    "        temperatura = mcv.calc_T(temperatura, u, dt)\n",
    "        # Calculo del flujo de calor\n",
    "        flujocalor = mcv.rungekutta_q(flujocalor, temperatura, tau, dx, dt)\n",
    "        # Calculo del gradiente y laplaciano de la Temperatura, y laplaciano del flujo de calor\n",
    "        lap_temperatura = mcv.d2dx2(temperatura, dx, full = True)\n",
    "        grad_temperatura = mcv.ddx(temperatura, dx, full = True)\n",
    "    return temperatura"
   ]
  },
  {
   "cell_type": "markdown",
   "id": "04fd1ec9-dee3-4769-b30f-788e467f25a1",
   "metadata": {},
   "source": [
    "## Archivo del ensamble de realizaciones de la frontera"
   ]
  },
  {
   "cell_type": "code",
   "execution_count": 4,
   "id": "87e9d6e4-2038-42ae-ab81-f556fb210bc9",
   "metadata": {},
   "outputs": [
    {
     "data": {
      "text/plain": [
       "(144, 50001)"
      ]
     },
     "execution_count": 4,
     "metadata": {},
     "output_type": "execute_result"
    }
   ],
   "source": [
    "ensamble_fronteras = np.loadtxt(\"datos/base/fronteras.csv\", delimiter = \",\")\n",
    "ensamble_fronteras.shape"
   ]
  },
  {
   "cell_type": "markdown",
   "id": "b4f0745f-251a-4938-a62b-072a995e352d",
   "metadata": {},
   "source": [
    "## Archivo de la condición inicial de la Temperatura"
   ]
  },
  {
   "cell_type": "code",
   "execution_count": 5,
   "id": "1c1a5941-5f41-4d99-b6d6-a3cae2f503bd",
   "metadata": {},
   "outputs": [
    {
     "data": {
      "text/plain": [
       "(144, 161)"
      ]
     },
     "execution_count": 5,
     "metadata": {},
     "output_type": "execute_result"
    }
   ],
   "source": [
    "condicion_inicial = np.loadtxt(\"datos/base/variacion_inicial.csv\")\n",
    "condicion_inicial.shape"
   ]
  },
  {
   "cell_type": "markdown",
   "id": "8bfc2d0a-d574-42eb-bb4f-c23a615be36c",
   "metadata": {
    "tags": []
   },
   "source": [
    "## Dominio espacial\n",
    "\n",
    "La solución numérica del problema se presenta solo en una dimensión espacial"
   ]
  },
  {
   "cell_type": "code",
   "execution_count": 6,
   "id": "0ca16cc4-6c96-4499-9389-c0d17688ea80",
   "metadata": {},
   "outputs": [
    {
     "data": {
      "text/plain": [
       "0.00625"
      ]
     },
     "execution_count": 6,
     "metadata": {},
     "output_type": "execute_result"
    }
   ],
   "source": [
    "x = np.loadtxt(\"datos/base/espacio_simulacion.csv\")  # Vector del dominio espacial\n",
    "nx = x.size                                          # Numero de puntos en el espacio\n",
    "Lx = x[-1]                                           # Longitud del dominio espacial\n",
    "dx = x[1] - x[0]                                     # Tamaño de paso en el espacio\n",
    "dx"
   ]
  },
  {
   "cell_type": "markdown",
   "id": "1d50930e-fe6d-401f-96b1-7eacb84cbd08",
   "metadata": {},
   "source": [
    "## Dominio temporal\n",
    "\n",
    "El tiempo que se pretende dar solución al sistema de ecuaciones"
   ]
  },
  {
   "cell_type": "code",
   "execution_count": 7,
   "id": "ca58e1fc-659b-45f7-9769-7a9e0dde427b",
   "metadata": {},
   "outputs": [
    {
     "data": {
      "text/plain": [
       "2e-05"
      ]
     },
     "execution_count": 7,
     "metadata": {},
     "output_type": "execute_result"
    }
   ],
   "source": [
    "t = np.loadtxt(\"datos/base/tiempo_simulacion.csv\")  # Vector del dominio temporal, contiene nt+1 puntos incluyendo el 0\n",
    "nt = ensamble_fronteras.shape[1]                    # Numero de pasos en el tiempo\n",
    "Lt = t[-1]                                          # Longitud del dominio temporal\n",
    "dt = t[1] - t[0]                                    # Tamaño de paso en el tiempo, \n",
    "dt"
   ]
  },
  {
   "cell_type": "markdown",
   "id": "21cbcb60-13a3-4dd2-ad7d-8a3a20587af7",
   "metadata": {},
   "source": [
    "## Fronteras"
   ]
  },
  {
   "cell_type": "code",
   "execution_count": 8,
   "id": "028a7cb9-36bc-49fc-b96d-0ad070deda2a",
   "metadata": {},
   "outputs": [],
   "source": [
    "frontera_est = ensamble_fronteras[0]\n",
    "frontera_det = np.mean(frontera_est) * np.ones(nt)"
   ]
  },
  {
   "cell_type": "markdown",
   "id": "b92c25ea-8c8b-43a9-a2cd-2bacbcd2aba8",
   "metadata": {},
   "source": [
    "## Variación inicial"
   ]
  },
  {
   "cell_type": "code",
   "execution_count": 9,
   "id": "a2c4efce-7339-4e91-992a-5ee73b8a0e9c",
   "metadata": {},
   "outputs": [],
   "source": [
    "variacion_inicial = condicion_inicial[0]"
   ]
  },
  {
   "cell_type": "markdown",
   "id": "2098f426-d428-44c3-86af-6bcc20fc9f9b",
   "metadata": {
    "tags": []
   },
   "source": [
    "## Solución analítica del estado estacionario\n",
    "$ T(x) = 1 + a(1 - x)$"
   ]
  },
  {
   "cell_type": "code",
   "execution_count": 10,
   "id": "896f4085-4c69-462c-9460-90fe201e29fe",
   "metadata": {},
   "outputs": [],
   "source": [
    "mu_frontera = np.mean(frontera_est) - 1.0\n",
    "perfil_analitico = 1.0 + mu_frontera * (1.0 - x) "
   ]
  },
  {
   "cell_type": "markdown",
   "id": "a1a8fee1-e1c9-465b-a123-1ed6f3d59f04",
   "metadata": {},
   "source": [
    "## Parámetros de la simulación"
   ]
  },
  {
   "cell_type": "markdown",
   "id": "8900caee-59b9-46be-a07a-8503db52e6f7",
   "metadata": {},
   "source": [
    "Para los arreglos"
   ]
  },
  {
   "cell_type": "code",
   "execution_count": 11,
   "id": "0f9cba8e-76fe-45bc-ae69-b93fcc44b110",
   "metadata": {},
   "outputs": [
    {
     "data": {
      "text/plain": [
       "0.2"
      ]
     },
     "execution_count": 11,
     "metadata": {},
     "output_type": "execute_result"
    }
   ],
   "source": [
    "xpi = int(nx / 5)                 # Punto de interes donde se capturan las series de tiempo\n",
    "nr = ensamble_fronteras.shape[0]  # Numero de realizaciones del ensamble\n",
    "x[xpi]"
   ]
  },
  {
   "cell_type": "markdown",
   "id": "59c94802-0e78-4215-890f-e1877ee1ced5",
   "metadata": {},
   "source": [
    "Valores termodinámicos"
   ]
  },
  {
   "cell_type": "code",
   "execution_count": 12,
   "id": "80a9d83d-39f1-4089-9558-a1803e8d55ff",
   "metadata": {},
   "outputs": [
    {
     "data": {
      "text/plain": [
       "1.0"
      ]
     },
     "execution_count": 12,
     "metadata": {},
     "output_type": "execute_result"
    }
   ],
   "source": [
    "difusividad = 1.0                         # Valor de referencia de la difusividad\n",
    "t_c = (Lx * Lx) / difusividad             # Tiempo caracteriztico\n",
    "num_alfa = difusividad * t_c / (Lx * Lx)  # Valor del parametro alfa\n",
    "t_c"
   ]
  },
  {
   "cell_type": "markdown",
   "id": "5d544586-6d9b-4a47-97b3-b2ff51f00001",
   "metadata": {},
   "source": [
    "Tiempo efectivo de retardo"
   ]
  },
  {
   "cell_type": "code",
   "execution_count": 13,
   "id": "c7fd6df2-883a-4a21-b574-090c4c841efb",
   "metadata": {},
   "outputs": [
    {
     "data": {
      "text/plain": [
       "5.0"
      ]
     },
     "execution_count": 13,
     "metadata": {},
     "output_type": "execute_result"
    }
   ],
   "source": [
    "dtq = 5.0 * dt\n",
    "tau = dtq / t_c\n",
    "tau / dt"
   ]
  },
  {
   "cell_type": "markdown",
   "id": "ec5f113d-6a86-4564-b559-a2c8f90e0c21",
   "metadata": {},
   "source": [
    "Número de Fourier"
   ]
  },
  {
   "cell_type": "code",
   "execution_count": 14,
   "id": "e73a93d8-75d6-4cc2-8ee8-bc18067dcae4",
   "metadata": {},
   "outputs": [],
   "source": [
    "alfa = num_alfa * np.ones(nx)  # Vector/arreglo alfa\n",
    "alfa[0], alfa[-1] = 0, 0           # Extremos del vector/arreglo alfa"
   ]
  },
  {
   "cell_type": "markdown",
   "id": "2e527e33-12a1-4feb-aefe-c3c59d01d613",
   "metadata": {
    "tags": []
   },
   "source": [
    "## Proceso principal"
   ]
  },
  {
   "cell_type": "code",
   "execution_count": 15,
   "id": "7b149e2d-07eb-4b72-8a41-967558c9bc58",
   "metadata": {},
   "outputs": [
    {
     "name": "stdout",
     "output_type": "stream",
     "text": [
      "Terminado\n"
     ]
    }
   ],
   "source": [
    "# Fronteras\n",
    "frontera_est = ensamble_fronteras[0] \n",
    "frontera_det = np.mean(frontera_est) * np.ones(nt)\n",
    "# Simulaciones\n",
    "perfil_est = simulacion(frontera_est)\n",
    "perfil_det = simulacion(frontera_det)\n",
    "# Progreso del trabajo\n",
    "print(\"Terminado\")"
   ]
  },
  {
   "cell_type": "markdown",
   "id": "ec0320bc-e761-4e25-9f6e-89bdb3558b7a",
   "metadata": {
    "tags": []
   },
   "source": [
    "## Gráficas de muestra"
   ]
  },
  {
   "cell_type": "markdown",
   "id": "c3ccdb56-2783-47d5-afcd-259545d21099",
   "metadata": {},
   "source": [
    "### Perfil de temperatura (calibración)"
   ]
  },
  {
   "cell_type": "code",
   "execution_count": 16,
   "id": "9d49daff-658d-46dc-9ac7-bd0ea1458a22",
   "metadata": {},
   "outputs": [
    {
     "data": {
      "image/png": "[encoded data removed]",
      "text/plain": [
       "<Figure size 648x648 with 1 Axes>"
      ]
     },
     "metadata": {},
     "output_type": "display_data"
    }
   ],
   "source": [
    "plt.figure(figsize = (9, 9))\n",
    "plt.ylabel(\"$T(x)$\")\n",
    "plt.xlabel(\"$x$\")\n",
    "plt.plot(x, perfil_analitico, lw = 2.0, label = \"analytic\")\n",
    "plt.plot(x, perfil_det, c = \"black\", ls = \"dotted\", lw = 4.5, label = \"numerical\")\n",
    "plt.legend(loc = \"best\")\n",
    "plt.savefig(\"graficas/perfil/cattaneo_perfil_temperatura.pdf\", bbox_inches = \"tight\")\n",
    "plt.show()"
   ]
  }
 ],
 "metadata": {
  "kernelspec": {
   "display_name": "Python 3 (ipykernel)",
   "language": "python",
   "name": "python3"
  },
  "language_info": {
   "codemirror_mode": {
    "name": "ipython",
    "version": 3
   },
   "file_extension": ".py",
   "mimetype": "text/x-python",
   "name": "python",
   "nbconvert_exporter": "python",
   "pygments_lexer": "ipython3",
   "version": "3.9.12"
  }
 },
 "nbformat": 4,
 "nbformat_minor": 5
}
