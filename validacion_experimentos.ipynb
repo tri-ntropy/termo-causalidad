{
 "cells": [
  {
   "cell_type": "markdown",
   "id": "34257fab-7ce7-4630-9fde-3235473ed25b",
   "metadata": {
    "tags": []
   },
   "source": [
    "# Validación metodológica - experimentos\n",
    "\n",
    "Con el objeto de validar la metodología, se realizan experimentos de los cuales ya se conoce su relación causal. Esos experimentos se generan a continuación para multiples realizaciones."
   ]
  },
  {
   "cell_type": "markdown",
   "id": "7d89d0b3-2470-4132-a939-f4712a3dc9a0",
   "metadata": {
    "tags": []
   },
   "source": [
    "## Importación de bibliotecas"
   ]
  },
  {
   "cell_type": "code",
   "execution_count": 1,
   "id": "51cf899e-201b-4708-afb8-f020ecfa77cd",
   "metadata": {},
   "outputs": [],
   "source": [
    "from IPython import display\n",
    "import ipywidgets\n",
    "import numpy as np"
   ]
  },
  {
   "cell_type": "markdown",
   "id": "169269cf-12be-4d80-a09b-c2569c8bcac1",
   "metadata": {
    "tags": []
   },
   "source": [
    "## Experimento 0 $$X_i \\nleftrightarrow Y_i$$"
   ]
  },
  {
   "cell_type": "code",
   "execution_count": 2,
   "id": "922921cc-a077-4730-9fc6-3a814241bbff",
   "metadata": {},
   "outputs": [],
   "source": [
    "def experimento_0(lt):\n",
    "    global ltxx, ltyy, ltyx, ltxy, pa, pb, qa, qb\n",
    "    \"\"\"\n",
    "    Genera las series X y Y\n",
    "    \n",
    "    Parámetros\n",
    "    ----------\n",
    "    lt : Longitud de la serie\n",
    "    p : Parámetro p para generar X\n",
    "    q : Parámetro q para generar Y\n",
    "    \n",
    "    Regresa\n",
    "    ----------\n",
    "    Arreglos de X y Y\n",
    "    \"\"\"\n",
    "    # Inicialización\n",
    "    p = 0.4 * (pa + pb)\n",
    "    q = 0.4 * (qa + qb)\n",
    "    # Generacion de X\n",
    "    x = np.random.binomial(n = 1, p = p, size = lt)\n",
    "    # Generacion de Y\n",
    "    y = np.random.binomial(n = 1, p = q, size = lt)\n",
    "    \n",
    "    return x, y"
   ]
  },
  {
   "cell_type": "markdown",
   "id": "f9905fe2-decf-4d9d-8cbd-ad1007bb23ac",
   "metadata": {
    "tags": []
   },
   "source": [
    "## Experimento 1 $$X_i = Y_i$$"
   ]
  },
  {
   "cell_type": "code",
   "execution_count": 3,
   "id": "2b69be57-7d4d-491f-8bf1-d4aab8ba41f2",
   "metadata": {},
   "outputs": [],
   "source": [
    "def experimento_1(lt):\n",
    "    global ltxx, ltyy, ltyx, ltxy, pa, pb, qa, qb\n",
    "    \"\"\"\n",
    "    Genera las series X y Y\n",
    "    \n",
    "    Parámetros\n",
    "    ----------\n",
    "    lt : Longitud de la serie\n",
    "    p : Parámetro p para generar X y Y\n",
    "    \n",
    "    Regresa\n",
    "    ----------\n",
    "    Arreglos de X y Y\n",
    "    \"\"\"\n",
    "    # Inicialización\n",
    "    p = 0.4 * (pa + pb)\n",
    "    # Generacion de X\n",
    "    x = np.random.binomial(n = 1, p = p, size = lt)\n",
    "    # Generacion de Y\n",
    "    y = np.copy(x)\n",
    "    \n",
    "    return x, y"
   ]
  },
  {
   "cell_type": "markdown",
   "id": "f33c60c2-29e9-4d33-9aef-7e8cab8855e2",
   "metadata": {
    "tags": []
   },
   "source": [
    "## Experimento 2 $$X_i \\rightarrow Y_{i + l_{xy}}$$"
   ]
  },
  {
   "cell_type": "code",
   "execution_count": 4,
   "id": "012d2e99-349e-435a-b0a0-ab7038eacded",
   "metadata": {},
   "outputs": [],
   "source": [
    "def experimento_2(lt):\n",
    "    global ltxx, ltyy, ltyx, ltxy, pa, pb, qa, qb\n",
    "    \"\"\"\n",
    "    Genera las series X y Y\n",
    "    \n",
    "    Parámetros\n",
    "    ----------\n",
    "    lt : Longitud de la serie\n",
    "    ltxy : Retardo de la influencia de X sobre Y\n",
    "    qa : Parámetro qa para generar Y\n",
    "    qb : Parámetro qb para generar Y\n",
    "    \n",
    "    Regresa\n",
    "    ----------\n",
    "    Arreglos de X y Y\n",
    "    \"\"\"\n",
    "    # Inicialización\n",
    "    p = 0.4 * (pa + pb)\n",
    "    x = np.random.binomial(n = 1, p = 0.5, size = 100)\n",
    "    y = np.random.binomial(n = 1, p = 0.5, size = 100)\n",
    "    # Proceso principal\n",
    "    while y.size < ltxy + lt:\n",
    "        q = qa * x[-ltxy] + qb * (1.0 - x[-ltxy])\n",
    "        x_cont = np.random.binomial(1, p = p)\n",
    "        y_cont = np.random.binomial(1, p = q)\n",
    "        x = np.append(x, x_cont)\n",
    "        y = np.append(y, y_cont)\n",
    "    # Corte\n",
    "    x = x[-lt :]\n",
    "    y = y[-lt :]\n",
    "    \n",
    "    return x, y"
   ]
  },
  {
   "cell_type": "markdown",
   "id": "8f2fcc27-2be8-44e8-b451-9e317232a4ed",
   "metadata": {},
   "source": [
    "## Parámetros de simulación"
   ]
  },
  {
   "cell_type": "code",
   "execution_count": 5,
   "id": "d8d4f213-d785-4e90-8cbc-637d936f6c22",
   "metadata": {},
   "outputs": [],
   "source": [
    "nr = 100      # Numero de realizaciones\n",
    "lt = 100_001  # Tamaño de las series X y Y\n",
    "ltxx = 23     # Tiempo de retardo de X -> X\n",
    "ltxy = 13     # Tiempo de retardo de X -> Y\n",
    "ltyx = 19     # Tiempo de retardo de Y -> X\n",
    "ltyy = 29     # Tiempo de retardo de Y -> Y\n",
    "pa = 0.12     # Parámetro pa para generar X\n",
    "pb = 0.88     # Parámetro pb para generar X\n",
    "qa = 0.12     # Parámetro qa para generar Y\n",
    "qb = 0.88     # Parámetro qb para generar Y"
   ]
  },
  {
   "cell_type": "markdown",
   "id": "904d231e-d79f-4521-96f4-3b67061e9dcf",
   "metadata": {},
   "source": [
    "## Inicialización"
   ]
  },
  {
   "cell_type": "code",
   "execution_count": 6,
   "id": "adf1f9db-ca59-4ae2-9ba8-af9d755a196a",
   "metadata": {},
   "outputs": [],
   "source": [
    "x00, y00 = np.empty((nr, lt)), np.empty((nr, lt))  # Experimento X <-/-> Y\n",
    "x01, y01 = np.empty((nr, lt)), np.empty((nr, lt))  # Experimento X = Y\n",
    "x02, y02 = np.empty((nr, lt)), np.empty((nr, lt))  # Experimento X -> Y"
   ]
  },
  {
   "cell_type": "markdown",
   "id": "45a64b49-0a55-491d-849b-0e5afc738b40",
   "metadata": {
    "tags": []
   },
   "source": [
    "## Realizaciones"
   ]
  },
  {
   "cell_type": "code",
   "execution_count": 7,
   "id": "796f1590-0192-4ec8-ba83-bd4f13621eec",
   "metadata": {},
   "outputs": [
    {
     "data": {
      "application/vnd.jupyter.widget-view+json": {
       "model_id": "395599b77ad14e0186cec085c72f35af",
       "version_major": 2,
       "version_minor": 0
      },
      "text/plain": [
       "FloatProgress(value=0.0, description='Progreso:')"
      ]
     },
     "metadata": {},
     "output_type": "display_data"
    }
   ],
   "source": [
    "# Barra de progreso\n",
    "progreso = ipywidgets.FloatProgress(\n",
    "    value = 0,\n",
    "    min = 0,\n",
    "    max = nr, \n",
    "    description = 'Progreso:')\n",
    "display.display(progreso)\n",
    "\n",
    "progreso.value = 0\n",
    "for r in range(nr):\n",
    "    x00[r], y00[r] = experimento_0(lt)\n",
    "    x01[r], y01[r] = experimento_1(lt)\n",
    "    x02[r], y02[r] = experimento_2(lt)\n",
    "    progreso.value = r + 1"
   ]
  },
  {
   "cell_type": "markdown",
   "id": "a8c96214-46f1-46bd-bd89-07579d02b414",
   "metadata": {
    "tags": []
   },
   "source": [
    "## Archivos"
   ]
  },
  {
   "cell_type": "code",
   "execution_count": 8,
   "id": "3f0760bf-7d64-43a3-bba8-59147653a5ae",
   "metadata": {},
   "outputs": [],
   "source": [
    "ruta = \"datos_experimentos_validacion/\"\n",
    "np.savetxt(ruta + \"x00\" + \".csv\", x00, fmt = \"%d\")\n",
    "np.savetxt(ruta + \"x01\" + \".csv\", x01, fmt = \"%d\")\n",
    "np.savetxt(ruta + \"x02\" + \".csv\", x02, fmt = \"%d\")\n",
    "\n",
    "np.savetxt(ruta + \"y00\" + \".csv\", y00, fmt = \"%d\")\n",
    "np.savetxt(ruta + \"y01\" + \".csv\", y01, fmt = \"%d\")\n",
    "np.savetxt(ruta + \"y02\" + \".csv\", y02, fmt = \"%d\")"
   ]
  }
 ],
 "metadata": {
  "kernelspec": {
   "display_name": "Python 3 (ipykernel)",
   "language": "python",
   "name": "python3"
  },
  "language_info": {
   "codemirror_mode": {
    "name": "ipython",
    "version": 3
   },
   "file_extension": ".py",
   "mimetype": "text/x-python",
   "name": "python",
   "nbconvert_exporter": "python",
   "pygments_lexer": "ipython3",
   "version": "3.9.11"
  }
 },
 "nbformat": 4,
 "nbformat_minor": 5
}
