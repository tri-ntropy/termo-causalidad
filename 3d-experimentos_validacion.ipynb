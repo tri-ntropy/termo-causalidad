{
 "cells": [
  {
   "cell_type": "markdown",
   "id": "34257fab-7ce7-4630-9fde-3235473ed25b",
   "metadata": {
    "tags": []
   },
   "source": [
    "# Experimentos - Validación metodológica\n",
    "\n",
    "Con el objeto de validar la metodología, se realizan experimentos de los cuales ya se conoce su relación causal. Esos experimentos se generan a continuación para multiples realizaciones."
   ]
  },
  {
   "cell_type": "markdown",
   "id": "7d89d0b3-2470-4132-a939-f4712a3dc9a0",
   "metadata": {
    "tags": []
   },
   "source": [
    "## Importación de bibliotecas"
   ]
  },
  {
   "cell_type": "code",
   "execution_count": 1,
   "id": "51cf899e-201b-4708-afb8-f020ecfa77cd",
   "metadata": {},
   "outputs": [],
   "source": [
    "from IPython import display\n",
    "import ipywidgets\n",
    "import numpy as np"
   ]
  },
  {
   "cell_type": "markdown",
   "id": "169269cf-12be-4d80-a09b-c2569c8bcac1",
   "metadata": {
    "tags": []
   },
   "source": [
    "## Experimento 0 $$X_i \\nleftrightarrow Y_i$$"
   ]
  },
  {
   "cell_type": "code",
   "execution_count": 2,
   "id": "922921cc-a077-4730-9fc6-3a814241bbff",
   "metadata": {},
   "outputs": [],
   "source": [
    "def experimento0(lt):\n",
    "    global valores, dist_uniforme, dist_no_uniforme, ltxx, ltyy, ltyx, ltxy\n",
    "    \"\"\"\n",
    "    Genera las series X y Y\n",
    "    \n",
    "    Parámetros\n",
    "    ----------\n",
    "    lt : Longitud de la serie\n",
    "    \n",
    "    Regresa\n",
    "    ----------\n",
    "    Arreglos de X y Y\n",
    "    \"\"\"\n",
    "    # Generacion de X\n",
    "    x = np.random.choice(a = valores, size = lt, replace = True, p = dist_uniforme)\n",
    "    # Generacion de Y\n",
    "    y = np.random.choice(a = valores, size = lt, replace = True, p = dist_uniforme)\n",
    "    \n",
    "    return x, y"
   ]
  },
  {
   "cell_type": "markdown",
   "id": "f9905fe2-decf-4d9d-8cbd-ad1007bb23ac",
   "metadata": {
    "tags": []
   },
   "source": [
    "## Experimento 1 $$X_i = Y_i$$"
   ]
  },
  {
   "cell_type": "code",
   "execution_count": 3,
   "id": "2b69be57-7d4d-491f-8bf1-d4aab8ba41f2",
   "metadata": {},
   "outputs": [],
   "source": [
    "def experimento1(lt):\n",
    "    global valores, dist_uniforme, dist_no_uniforme, ltxx, ltyy, ltyx, ltxy\n",
    "    \"\"\"\n",
    "    Genera las series X y Y\n",
    "    \n",
    "    Parámetros\n",
    "    ----------\n",
    "    lt : Longitud de la serie\n",
    "    \n",
    "    Regresa\n",
    "    ----------\n",
    "    Arreglos de X y Y\n",
    "    \"\"\"\n",
    "    # Generacion de X\n",
    "    x = np.random.choice(a = valores, size = lt, replace = True, p = dist_uniforme)\n",
    "    # Generacion de Y\n",
    "    y = np.copy(x)\n",
    "    \n",
    "    return x, y"
   ]
  },
  {
   "cell_type": "markdown",
   "id": "050e2fbf-02bc-488b-a0c8-59eef5b04347",
   "metadata": {
    "tags": []
   },
   "source": [
    "## Experimento 2 $$X_i = Y_{i + l_{xy}}$$"
   ]
  },
  {
   "cell_type": "code",
   "execution_count": 4,
   "id": "9142a56e-d67c-4422-8792-35aca9847c9e",
   "metadata": {},
   "outputs": [],
   "source": [
    "def experimento2(lt):\n",
    "    global valores, dist_uniforme, dist_no_uniforme, ltxx, ltyy, ltyx, ltxy\n",
    "    \"\"\"\n",
    "    Genera las series X y Y\n",
    "    \n",
    "    Parámetros\n",
    "    ----------\n",
    "    lt : Longitud de la serie\n",
    "    \n",
    "    Regresa\n",
    "    ----------\n",
    "    Arreglos de X y Y\n",
    "    \"\"\"\n",
    "    # Generacion de X\n",
    "    x = np.random.choice(a = valores, size = lt, replace = True, p = dist_uniforme)\n",
    "    # Generacion de Y\n",
    "    y = np.roll(np.copy(x), ltxy)\n",
    "    \n",
    "    return x, y"
   ]
  },
  {
   "cell_type": "markdown",
   "id": "f33c60c2-29e9-4d33-9aef-7e8cab8855e2",
   "metadata": {
    "tags": []
   },
   "source": [
    "## Experimento 3 $$X_i \\rightarrow Y_{i + l_{xy}}$$"
   ]
  },
  {
   "cell_type": "code",
   "execution_count": 5,
   "id": "012d2e99-349e-435a-b0a0-ab7038eacded",
   "metadata": {},
   "outputs": [],
   "source": [
    "def experimento3(lt):\n",
    "    global valores, dist_uniforme, dist_no_uniforme, ltxx, ltyy, ltyx, ltxy\n",
    "    \"\"\"\n",
    "    Genera las series X y Y\n",
    "    \n",
    "    Parámetros\n",
    "    ----------\n",
    "    lt : Longitud de la serie\n",
    "    \n",
    "    Regresa\n",
    "    ----------\n",
    "    Arreglos de X y Y\n",
    "    \"\"\"\n",
    "    # Inicialización\n",
    "    ltxtra = 40\n",
    "    x = np.empty(lt + ltxtra)\n",
    "    y = np.empty(lt + ltxtra)\n",
    "    x[: ltxtra] = np.random.choice(a = valores, size = ltxtra, replace = True, p = dist_uniforme)\n",
    "    y[: ltxtra] = np.random.choice(a = valores, size = ltxtra, replace = True, p = dist_uniforme)\n",
    "    # Proceso principal\n",
    "    for i in range(ltxtra, lt + ltxtra):\n",
    "        x[i] = np.random.choice(a = valores, size = 1, p = dist_uniforme)\n",
    "        y[i] = np.random.choice(a = valores, size = 1, p = dist_no_uniforme[int(x[i - ltxy])])\n",
    "    # Corte\n",
    "    x = x[-lt :]\n",
    "    y = y[-lt :]\n",
    "    \n",
    "    return x, y"
   ]
  },
  {
   "cell_type": "markdown",
   "id": "1628f208-61b1-4f2f-a5cc-e511abe15760",
   "metadata": {
    "tags": []
   },
   "source": [
    "## Experimento 4 $$X_i \\rightarrow X_{i + l_{xx}} \\quad X_i = Y_{i + l_{xy}}$$ $$$$"
   ]
  },
  {
   "cell_type": "code",
   "execution_count": 6,
   "id": "e0d23317-20db-4e42-b37f-b79b8a72f593",
   "metadata": {},
   "outputs": [],
   "source": [
    "def experimento4(lt):\n",
    "    global valores, dist_uniforme, dist_no_uniforme, ltxx, ltyy, ltyx, ltxy\n",
    "    \"\"\"\n",
    "    Genera las series X y Y\n",
    "    \n",
    "    Parámetros\n",
    "    ----------\n",
    "    lt : Longitud de la serie\n",
    "    \n",
    "    Regresa\n",
    "    ----------\n",
    "    Arreglos de X y Y\n",
    "    \"\"\"\n",
    "    # Inicialización\n",
    "    ltxtra = 40\n",
    "    x = np.empty(lt + ltxtra)\n",
    "    y = np.empty(lt + ltxtra)\n",
    "    x[: ltxtra] = np.random.choice(a = valores, size = ltxtra, replace = True, p = dist_uniforme)\n",
    "    y[: ltxtra] = np.random.choice(a = valores, size = ltxtra, replace = True, p = dist_uniforme)\n",
    "    # Proceso principal\n",
    "    for i in range(ltxtra, lt + ltxtra):\n",
    "        x[i] = np.random.choice(a = valores, size = 1, p = dist_no_uniforme[int(x[i - ltxx])])\n",
    "    # Generacion de Y\n",
    "    y = np.roll(np.copy(x), ltxy)\n",
    "    # Corte\n",
    "    x = x[-lt :]\n",
    "    y = y[-lt :]\n",
    "    \n",
    "    return x, y"
   ]
  },
  {
   "cell_type": "markdown",
   "id": "f8b5fd88-fb59-4948-b054-0fad1d73dc9c",
   "metadata": {
    "tags": []
   },
   "source": [
    "## Experimento 5 $$X_i \\rightarrow X_{i + l_{xx}} \\quad X_i \\rightarrow Y_{i + l_{xy}}$$ $$$$"
   ]
  },
  {
   "cell_type": "code",
   "execution_count": 7,
   "id": "2b49fb14-a740-41c8-a8d9-9c8d5b114d83",
   "metadata": {},
   "outputs": [],
   "source": [
    "def experimento5(lt):\n",
    "    global valores, dist_uniforme, dist_no_uniforme, ltxx, ltyy, ltyx, ltxy\n",
    "    \"\"\"\n",
    "    Genera las series X y Y\n",
    "    \n",
    "    Parámetros\n",
    "    ----------\n",
    "    lt : Longitud de la serie\n",
    "    \n",
    "    Regresa\n",
    "    ----------\n",
    "    Arreglos de X y Y\n",
    "    \"\"\"\n",
    "    # Inicialización\n",
    "    ltxtra = 40\n",
    "    x = np.empty(lt + ltxtra)\n",
    "    y = np.empty(lt + ltxtra)\n",
    "    x[: ltxtra] = np.random.choice(a = valores, size = ltxtra, replace = True, p = dist_uniforme)\n",
    "    y[: ltxtra] = np.random.choice(a = valores, size = ltxtra, replace = True, p = dist_uniforme)\n",
    "    # Proceso principal\n",
    "    for i in range(ltxtra, lt + ltxtra):\n",
    "        x[i] = np.random.choice(a = valores, size = 1, p = dist_no_uniforme[int(x[i - ltxx])])\n",
    "        y[i] = np.random.choice(a = valores, size = 1, p = dist_no_uniforme[int(x[i - ltxy])])\n",
    "    # Corte\n",
    "    x = x[-lt :]\n",
    "    y = y[-lt :]\n",
    "    \n",
    "    return x, y"
   ]
  },
  {
   "cell_type": "markdown",
   "id": "0020e554-8385-4a44-b0cb-c982ee69c335",
   "metadata": {},
   "source": [
    "## Archivo del ensamble de realizaciones de la frontera"
   ]
  },
  {
   "cell_type": "code",
   "execution_count": 8,
   "id": "261c199f-cf27-48ee-ad30-03d190b20dac",
   "metadata": {},
   "outputs": [
    {
     "name": "stdout",
     "output_type": "stream",
     "text": [
      "128 40001\n"
     ]
    }
   ],
   "source": [
    "nr, lt = np.loadtxt(\"datos/base/fronteras.csv\", delimiter = \",\").shape\n",
    "print(nr, lt)"
   ]
  },
  {
   "cell_type": "markdown",
   "id": "b86d790f-b2ea-48f7-af05-960af38630d9",
   "metadata": {},
   "source": [
    "## Distribución de probabilidades"
   ]
  },
  {
   "cell_type": "code",
   "execution_count": 9,
   "id": "c55f0656-0dea-452f-9ffa-b6af8b164d94",
   "metadata": {},
   "outputs": [],
   "source": [
    "n = 6\n",
    "mp = np.eye(n)\n",
    "p = 0.8\n",
    "q = 1.0 - p\n",
    "mp[mp == 1] = p\n",
    "mp[mp == 0] = q / (n - 1)\n",
    "valores = np.linspace(1, n, n, dtype = \"int64\")\n",
    "\n",
    "dist_uniforme = np.ones(n) / n\n",
    "dist_no_uniforme = dict(zip(valores, mp))"
   ]
  },
  {
   "cell_type": "markdown",
   "id": "8f2fcc27-2be8-44e8-b451-9e317232a4ed",
   "metadata": {},
   "source": [
    "## Parámetros de simulación"
   ]
  },
  {
   "cell_type": "code",
   "execution_count": 10,
   "id": "d8d4f213-d785-4e90-8cbc-637d936f6c22",
   "metadata": {},
   "outputs": [],
   "source": [
    "ltxx = 23  # Tiempo de retardo de X -> X\n",
    "ltxy = 13  # Tiempo de retardo de X -> Y\n",
    "ltyx = 19  # Tiempo de retardo de Y -> X\n",
    "ltyy = 29  # Tiempo de retardo de Y -> Y"
   ]
  },
  {
   "cell_type": "markdown",
   "id": "904d231e-d79f-4521-96f4-3b67061e9dcf",
   "metadata": {},
   "source": [
    "## Inicialización"
   ]
  },
  {
   "cell_type": "code",
   "execution_count": 11,
   "id": "adf1f9db-ca59-4ae2-9ba8-af9d755a196a",
   "metadata": {},
   "outputs": [],
   "source": [
    "x00, y00 = np.empty((nr, lt)), np.empty((nr, lt))  # Experimento X <-/-> Y\n",
    "x01, y01 = np.empty((nr, lt)), np.empty((nr, lt))  # Experimento X = Y\n",
    "x02, y02 = np.empty((nr, lt)), np.empty((nr, lt))  # Experimento X = Y(t + dt)\n",
    "x03, y03 = np.empty((nr, lt)), np.empty((nr, lt))  # Experimento X -> Y\n",
    "x04, y04 = np.empty((nr, lt)), np.empty((nr, lt))  # Experimento X -> X, X -> Y\n",
    "x05, y05 = np.empty((nr, lt)), np.empty((nr, lt))  # Experimento X -> Y, Y -> X"
   ]
  },
  {
   "cell_type": "markdown",
   "id": "45a64b49-0a55-491d-849b-0e5afc738b40",
   "metadata": {
    "tags": []
   },
   "source": [
    "## Realizaciones principales"
   ]
  },
  {
   "cell_type": "code",
   "execution_count": 12,
   "id": "5157ab74-e941-4582-95d0-5d183fa481d0",
   "metadata": {},
   "outputs": [
    {
     "data": {
      "application/vnd.jupyter.widget-view+json": {
       "model_id": "172402dccea042b88f43677a09784a85",
       "version_major": 2,
       "version_minor": 0
      },
      "text/plain": [
       "FloatProgress(value=0.0, description='Progreso:', max=128.0)"
      ]
     },
     "metadata": {},
     "output_type": "display_data"
    }
   ],
   "source": [
    "# Barra de progreso\n",
    "progreso = ipywidgets.FloatProgress(\n",
    "    value = 0,\n",
    "    min = 0,\n",
    "    max = nr, \n",
    "    description = 'Progreso:')\n",
    "display.display(progreso)\n",
    "\n",
    "# Proceso principal\n",
    "progreso.value = 0\n",
    "for r in range(nr):\n",
    "    x00[r], y00[r] = experimento0(lt)\n",
    "    x01[r], y01[r] = experimento1(lt)\n",
    "    x02[r], y02[r] = experimento2(lt)\n",
    "    x03[r], y03[r] = experimento3(lt)\n",
    "    x04[r], y04[r] = experimento4(lt)\n",
    "    x05[r], y05[r] = experimento5(lt)\n",
    "    progreso.value = r + 1"
   ]
  },
  {
   "cell_type": "markdown",
   "id": "59d14e94-154f-4883-96a2-3baddb1c63e4",
   "metadata": {},
   "source": [
    "## Datos"
   ]
  },
  {
   "cell_type": "code",
   "execution_count": 13,
   "id": "2a5f3a57-24fe-4b42-8ec2-1069042c05bb",
   "metadata": {},
   "outputs": [],
   "source": [
    "# Datos para los experimentos\n",
    "datos = {\n",
    "        \"x00\" : x00,\n",
    "        \"x01\" : x01,\n",
    "        \"x02\" : x02,\n",
    "        \"x03\" : x03,\n",
    "        \"x04\" : x04,\n",
    "        \"x05\" : x05,\n",
    "        \"y00\" : y00,\n",
    "        \"y01\" : y01,\n",
    "        \"y02\" : y02,\n",
    "        \"y03\" : y03,\n",
    "        \"y04\" : y04,\n",
    "        \"y05\" : y05,\n",
    "        }"
   ]
  },
  {
   "cell_type": "markdown",
   "id": "a8c96214-46f1-46bd-bd89-07579d02b414",
   "metadata": {
    "tags": []
   },
   "source": [
    "## Archivos"
   ]
  },
  {
   "cell_type": "code",
   "execution_count": 14,
   "id": "3f0760bf-7d64-43a3-bba8-59147653a5ae",
   "metadata": {},
   "outputs": [],
   "source": [
    "ruta = \"datos/experimentos_validacion/\"\n",
    "for d in datos.keys():\n",
    "    np.savetxt(ruta + d + \".csv\",\n",
    "               datos[d],\n",
    "               fmt = \"%d\", delimiter = \",\")"
   ]
  }
 ],
 "metadata": {
  "kernelspec": {
   "display_name": "Python 3 (ipykernel)",
   "language": "python",
   "name": "python3"
  },
  "language_info": {
   "codemirror_mode": {
    "name": "ipython",
    "version": 3
   },
   "file_extension": ".py",
   "mimetype": "text/x-python",
   "name": "python",
   "nbconvert_exporter": "python",
   "pygments_lexer": "ipython3",
   "version": "3.9.12"
  }
 },
 "nbformat": 4,
 "nbformat_minor": 5
}
