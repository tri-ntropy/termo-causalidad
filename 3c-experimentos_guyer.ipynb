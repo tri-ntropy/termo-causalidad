{
 "cells": [
  {
   "cell_type": "markdown",
   "id": "554a6f57-3be8-41df-9e1f-6267fe24b3f9",
   "metadata": {},
   "source": [
    "# Experimentos de GK"
   ]
  },
  {
   "cell_type": "markdown",
   "id": "48b80eeb-3783-4684-b490-fe924e2ef68a",
   "metadata": {
    "tags": []
   },
   "source": [
    "## Modelo de GK\n",
    "## $$\\dfrac{\\partial T}{\\partial t} + \\tau_q \\dfrac{\\partial^2 T}{\\partial t^2} = \\alpha \\left[\\dfrac{\\partial^2 T}{\\partial x^2} + \\beta \\dfrac{\\partial}{\\partial t} \\left(\\dfrac{\\partial^2 T}{\\partial x^2}\\right)\\right]$$\n",
    "\n",
    "## $$q + \\tau_q \\dfrac{\\partial q}{\\partial t} = - D\\left[\\dfrac{\\partial T}{\\partial x} + \\beta \\dfrac{\\partial}{\\partial t} \\left(\\dfrac{\\partial T}{\\partial x}\\right)\\right]$$\n",
    "\n",
    "## $$q(t + \\tau_q) \\simeq q + \\tau_q \\dfrac{\\partial q}{\\partial t}; \\quad \\dfrac{\\partial T}{\\partial t}(t + \\tau_q) \\simeq \\dfrac{\\partial T}{\\partial t} + \\tau_q \\dfrac{\\partial^2 T}{\\partial t^2}; \\quad \\dfrac{\\partial T}{\\partial x}(t + \\beta) \\simeq \\dfrac{\\partial T}{\\partial x} + \\beta \\dfrac{\\partial}{\\partial t} \\left(\\dfrac{\\partial T}{\\partial x}\\right)$$\n",
    "\n",
    "## $$\\dfrac{\\partial^2 T}{\\partial x^2} (t + \\beta) \\simeq \\dfrac{\\partial^2 T}{\\partial x^2} + \\beta \\dfrac{\\partial}{\\partial t} \\left(\\dfrac{\\partial^2 T}{\\partial x^2}\\right) $$\n",
    "\n",
    "## Con las variables causales\n",
    "### $A = \\dfrac{\\partial T}{\\partial t}, \\quad B = \\dfrac{\\partial^2 T}{\\partial x^2}$\n",
    "### $C = q, \\quad D  = \\dfrac{\\partial T}{\\partial x}, \\quad E = T$"
   ]
  },
  {
   "cell_type": "markdown",
   "id": "b6c0c2df-e276-4449-9d0b-380a874b52bf",
   "metadata": {},
   "source": [
    "La ecuación de transporte esta dada en su forma adimensional por medio de las siguientes variables adimensionales y parámetros:\n",
    "* $T$ es la temperatura\n",
    "* $t$ es el tiempo\n",
    "* $D$ es la difusividad térmica\n",
    "* $x$ es la dirección espacial x\n",
    "* $q$ es el flujo de calor\n",
    "* El parámetro $\\alpha$ es el número de Fourier $\\alpha = D t_c L^{-2}$\n",
    "* Con $t_c$ es el tiempo característico, $D$ es la difusividad térmica del material y $L$ es la longitud del material\n",
    "* El parámetro $\\beta$ es  $\\beta = l^2 D^{-1} t_c^{-1}$\n",
    "* Con $l$ la longitud libre media de los fonones\n",
    "* El parámetro $\\tau$ es el tiempo efectivo $\\tau = \\Delta t_q t_c^{-1}$\n",
    "* Con $\\Delta t_q$ es el tiempo de retardo del flujo de calor\n",
    "\n",
    "Este problema en particular se va a resolver para dos casos a las condiciones de frontera:\n",
    "\n",
    "Determinista\n",
    "* $\\quad T(x = 1, t) = 1 \\quad$ $T(x = 0, t) = \\mu_\\epsilon$\n",
    "\n",
    "Estocástico\n",
    "* $\\quad T(x = 1, t) = 1 \\quad$ $T(x = 0, t) = \\epsilon(t)$ \n",
    "\n",
    "Con $\\epsilon(t)$ ruido blanco Gaussiano y $\\mu_\\epsilon$ su promedio\n",
    "\n",
    "Y la condición inicial para ambos casos\n",
    "* $T(x, t = 0) = 1$"
   ]
  },
  {
   "cell_type": "markdown",
   "id": "865aeaae-c008-4d14-875a-7860fd2f4b59",
   "metadata": {},
   "source": [
    "### Importación de bibliotecas y módulos"
   ]
  },
  {
   "cell_type": "code",
   "execution_count": 1,
   "id": "b10f2a95-274b-45e9-8363-addbbd67ef7a",
   "metadata": {},
   "outputs": [],
   "source": [
    "from IPython import display\n",
    "import ipywidgets\n",
    "import numpy as np               \n",
    "from numba import jit\n",
    "import modulo_jeffreys as mjgk"
   ]
  },
  {
   "cell_type": "markdown",
   "id": "1a7ab921-34dc-423d-a6a0-04401627dc6a",
   "metadata": {},
   "source": [
    "## Función de simulación\n",
    "Dependiendo de la frontera, se tiene la simulacion determinista o estocastica"
   ]
  },
  {
   "cell_type": "code",
   "execution_count": 2,
   "id": "e4d5470f-d863-4a70-8446-4093a14494b6",
   "metadata": {},
   "outputs": [],
   "source": [
    "@jit(nopython = True)\n",
    "def simulacion(frontera, perfil_analitico, variacion_inicial):\n",
    "    global nx, nt, alfa, tau, dx, dt, xpi\n",
    "    # Condicion inicial\n",
    "    temperatura = perfil_analitico + variacion_inicial\n",
    "    flujocalor = - mjgk.ddx(temperatura, dx, full = True)\n",
    "    u = np.zeros(nx)\n",
    "    # Inicializacion de las series de tiempo\n",
    "    serie_a = np.empty(nt)\n",
    "    serie_b = np.empty(nt)\n",
    "    serie_c = np.empty(nt)\n",
    "    serie_d = np.empty(nt)\n",
    "    serie_e = np.empty(nt)\n",
    "    # Proceso de la simulacion\n",
    "    for n in range(nt):\n",
    "        # Frontera. Al instante n se le asigna el valor correspondiente a la frontera\n",
    "        temperatura[0] = frontera[n]\n",
    "        # Calculo de u (derivada de la temperatura respecto al tiempo)\n",
    "        u = mjgk.rungekutta_u(u, temperatura, alfa, tau_q, beta, dx, dt)\n",
    "        # Calculo de la temperatura\n",
    "        temperatura = mjgk.calc_T(temperatura, u, dt)\n",
    "        # Calculo del flujo de calor\n",
    "        flujocalor = mjgk.rungekutta_q(flujocalor, temperatura, u, tau_q, beta, dx, dt)\n",
    "        # Calculo del gradiente y laplaciano de la Temperatura, y laplaciano del flujo de calor\n",
    "        lap_temperatura = mjgk.d2dx2(temperatura, dx, full = True)\n",
    "        grad_temperatura = mjgk.ddx(temperatura, dx, full = True)\n",
    "        # Captura de las series de tiempo\n",
    "        serie_a[n] = u[xpi]\n",
    "        serie_b[n] = lap_temperatura[xpi]\n",
    "        serie_c[n] = flujocalor[xpi]\n",
    "        serie_d[n] = grad_temperatura[xpi]\n",
    "        serie_e[n] = temperatura[xpi]\n",
    "    return serie_a, serie_b, serie_c, serie_d, serie_e"
   ]
  },
  {
   "cell_type": "markdown",
   "id": "33c47d29-0091-4638-aa8f-f1177efac65b",
   "metadata": {},
   "source": [
    "## Función de fluctuación\n",
    "Construcción de la fluctuación de una variable del modelo"
   ]
  },
  {
   "cell_type": "code",
   "execution_count": 3,
   "id": "35072bdd-3e69-4a1c-83f0-e11a8d3249f3",
   "metadata": {},
   "outputs": [],
   "source": [
    "@jit(nopython = True)\n",
    "def fluctuacion(determinista, estocastico):\n",
    "    return estocastico - determinista"
   ]
  },
  {
   "cell_type": "markdown",
   "id": "558b431b-024c-4883-bb7b-8174ff379c87",
   "metadata": {},
   "source": [
    "## Archivo del ensamble de realizaciones de la frontera"
   ]
  },
  {
   "cell_type": "code",
   "execution_count": 4,
   "id": "01ff8fc1-351a-4df9-ac49-c1e756019c00",
   "metadata": {},
   "outputs": [
    {
     "data": {
      "text/plain": [
       "(128, 40001)"
      ]
     },
     "execution_count": 4,
     "metadata": {},
     "output_type": "execute_result"
    }
   ],
   "source": [
    "ensamble_fronteras = np.loadtxt(\"datos/base/fronteras.csv\", delimiter = \",\")\n",
    "ensamble_fronteras.shape"
   ]
  },
  {
   "cell_type": "markdown",
   "id": "7a3771d6-2da9-43b1-8a2e-72ce2a0a2abd",
   "metadata": {},
   "source": [
    "## Archivo de la condición inicial de la Temperatura"
   ]
  },
  {
   "cell_type": "code",
   "execution_count": 5,
   "id": "d033e0cd-b7af-4804-b134-1f1faf969e05",
   "metadata": {},
   "outputs": [
    {
     "data": {
      "text/plain": [
       "(128, 161)"
      ]
     },
     "execution_count": 5,
     "metadata": {},
     "output_type": "execute_result"
    }
   ],
   "source": [
    "condicion_inicial = np.loadtxt(\"datos/base/variacion_inicial.csv\")\n",
    "condicion_inicial.shape"
   ]
  },
  {
   "cell_type": "markdown",
   "id": "dbd6ac15-cf75-4e5b-9baf-28f4e98d19f3",
   "metadata": {
    "tags": []
   },
   "source": [
    "## Dominio espacial\n",
    "\n",
    "La solución numérica del problema se presenta solo en una dimensión espacial"
   ]
  },
  {
   "cell_type": "code",
   "execution_count": 6,
   "id": "ae9d1fbd-d5fa-4c52-bbe5-8fa715307d41",
   "metadata": {},
   "outputs": [
    {
     "data": {
      "text/plain": [
       "0.00625"
      ]
     },
     "execution_count": 6,
     "metadata": {},
     "output_type": "execute_result"
    }
   ],
   "source": [
    "x = np.loadtxt(\"datos/base/espacio_simulacion.csv\")  # Vector del dominio espacial\n",
    "nx = x.size                                          # Numero de puntos en el espacio\n",
    "Lx = x[-1]                                           # Longitud del dominio espacial\n",
    "dx = x[1] - x[0]                                     # Tamaño de paso en el espacio\n",
    "dx"
   ]
  },
  {
   "cell_type": "markdown",
   "id": "2f9ee646-2083-4a18-86a4-10915729a1bd",
   "metadata": {},
   "source": [
    "## Dominio temporal\n",
    "\n",
    "El tiempo que se pretende dar solución al sistema de ecuaciones"
   ]
  },
  {
   "cell_type": "code",
   "execution_count": 7,
   "id": "1744ad6a-51d6-424a-a21d-2d9403366658",
   "metadata": {},
   "outputs": [
    {
     "data": {
      "text/plain": [
       "2.5e-05"
      ]
     },
     "execution_count": 7,
     "metadata": {},
     "output_type": "execute_result"
    }
   ],
   "source": [
    "t = np.loadtxt(\"datos/base/tiempo_simulacion.csv\")  # Vector del dominio temporal, contiene nt+1 puntos incluyendo el 0\n",
    "nt = ensamble_fronteras.shape[1]                    # Numero de pasos en el tiempo\n",
    "Lt = t[-1]                                          # Longitud del dominio temporal\n",
    "dt = t[1] - t[0]                                    # Tamaño de paso en el tiempo, \n",
    "dt"
   ]
  },
  {
   "cell_type": "markdown",
   "id": "41f3a73b-3680-48d0-b779-6245754818e7",
   "metadata": {},
   "source": [
    "## Parámetros de la simulación"
   ]
  },
  {
   "cell_type": "markdown",
   "id": "c9bd71cc-ac90-4cd0-9a2f-3af2cc2f620e",
   "metadata": {},
   "source": [
    "Para los arreglos"
   ]
  },
  {
   "cell_type": "code",
   "execution_count": 8,
   "id": "ddafbde7-8039-4743-9a5a-705fdaf50bee",
   "metadata": {},
   "outputs": [
    {
     "data": {
      "text/plain": [
       "0.2"
      ]
     },
     "execution_count": 8,
     "metadata": {},
     "output_type": "execute_result"
    }
   ],
   "source": [
    "xpi = int(nx / 5)                 # Punto de interes donde se capturan las series de tiempo\n",
    "nr = ensamble_fronteras.shape[0]  # Numero de realizaciones del ensamble\n",
    "x[xpi]"
   ]
  },
  {
   "cell_type": "markdown",
   "id": "189cb47f-6f73-4122-ac4c-3cb0469c7b39",
   "metadata": {},
   "source": [
    "Valores termodinámicos"
   ]
  },
  {
   "cell_type": "code",
   "execution_count": 9,
   "id": "b85c07c4-1884-4fb0-9bce-c95d71fc4689",
   "metadata": {},
   "outputs": [
    {
     "data": {
      "text/plain": [
       "1.0"
      ]
     },
     "execution_count": 9,
     "metadata": {},
     "output_type": "execute_result"
    }
   ],
   "source": [
    "difusividad = 1.0                         # Valor de referencia de la difusividad\n",
    "t_c = (Lx * Lx) / difusividad             # Tiempo caracteriztico\n",
    "num_alfa = difusividad * t_c / (Lx * Lx)  # Valor del parametro alfa\n",
    "t_c"
   ]
  },
  {
   "cell_type": "markdown",
   "id": "f6ff086b-4c95-4ad9-8e68-e5be531069d3",
   "metadata": {},
   "source": [
    "Tiempo efectivo de retardo del flujo de calor"
   ]
  },
  {
   "cell_type": "code",
   "execution_count": 10,
   "id": "1bfe4687-ba71-4144-bd90-b52dc8b2f055",
   "metadata": {},
   "outputs": [
    {
     "data": {
      "text/plain": [
       "10.0"
      ]
     },
     "execution_count": 10,
     "metadata": {},
     "output_type": "execute_result"
    }
   ],
   "source": [
    "dtq = 10.0 * dt\n",
    "tau_q = dtq / t_c\n",
    "tau_q / dt"
   ]
  },
  {
   "cell_type": "markdown",
   "id": "1547e5d1-f991-41e5-b9db-f31eb941397e",
   "metadata": {},
   "source": [
    "Parametro $\\beta$"
   ]
  },
  {
   "cell_type": "code",
   "execution_count": 11,
   "id": "1b87761c-66b4-422a-8236-9adc0eaf23c6",
   "metadata": {},
   "outputs": [
    {
     "data": {
      "text/plain": [
       "0.011180339887498949"
      ]
     },
     "execution_count": 11,
     "metadata": {},
     "output_type": "execute_result"
    }
   ],
   "source": [
    "lfonon = np.sqrt(5.0 * dt)\n",
    "lfonon"
   ]
  },
  {
   "cell_type": "code",
   "execution_count": 12,
   "id": "888985eb-1771-47a1-b094-310ecea28ae5",
   "metadata": {},
   "outputs": [
    {
     "data": {
      "text/plain": [
       "5.0"
      ]
     },
     "execution_count": 12,
     "metadata": {},
     "output_type": "execute_result"
    }
   ],
   "source": [
    "beta = (lfonon * lfonon) / (difusividad * t_c)\n",
    "beta / dt"
   ]
  },
  {
   "cell_type": "markdown",
   "id": "a9974434-2035-4fab-b8ee-789305beffdc",
   "metadata": {},
   "source": [
    "Número de Fourier"
   ]
  },
  {
   "cell_type": "code",
   "execution_count": 13,
   "id": "61026b8e-62ff-4fcf-b2de-f9f7ec77b0f5",
   "metadata": {},
   "outputs": [],
   "source": [
    "alfa = num_alfa * np.ones(nx)  # Vector/arreglo alfa\n",
    "alfa[0], alfa[-1] = 0, 0           # Extremos del vector/arreglo alfa"
   ]
  },
  {
   "cell_type": "markdown",
   "id": "73bb341b-e022-4c4e-a33e-d16aa4c1068a",
   "metadata": {},
   "source": [
    "## Inicialización"
   ]
  },
  {
   "cell_type": "code",
   "execution_count": 14,
   "id": "40830233-af86-4113-9b52-f43e92c32923",
   "metadata": {},
   "outputs": [],
   "source": [
    "fluc_a = np.empty((nr, nt))\n",
    "fluc_b = np.empty((nr, nt))\n",
    "fluc_c = np.empty((nr, nt))\n",
    "fluc_d = np.empty((nr, nt))\n",
    "fluc_e = np.empty((nr, nt))\n",
    "serie_a = np.empty((nr, nt))\n",
    "serie_b = np.empty((nr, nt))\n",
    "serie_c = np.empty((nr, nt))\n",
    "serie_d = np.empty((nr, nt))\n",
    "serie_e = np.empty((nr, nt))"
   ]
  },
  {
   "cell_type": "markdown",
   "id": "45cf8e72-267a-4c90-acf0-0d65766a3c0a",
   "metadata": {
    "tags": []
   },
   "source": [
    "## Proceso principal"
   ]
  },
  {
   "cell_type": "code",
   "execution_count": 15,
   "id": "e1e3e8dd-4a46-4419-9f3a-c8cea0a4fcef",
   "metadata": {},
   "outputs": [
    {
     "data": {
      "application/vnd.jupyter.widget-view+json": {
       "model_id": "328b3d21423e4715b83487f09bfe210f",
       "version_major": 2,
       "version_minor": 0
      },
      "text/plain": [
       "FloatProgress(value=0.0, description='Progreso:', max=128.0)"
      ]
     },
     "metadata": {},
     "output_type": "display_data"
    }
   ],
   "source": [
    "# Barra de progreso\n",
    "progreso = ipywidgets.FloatProgress(\n",
    "    value = 0,\n",
    "    min = 0,\n",
    "    max = nr, \n",
    "    description = 'Progreso:')\n",
    "display.display(progreso)\n",
    "\n",
    "# Proceso principal\n",
    "progreso.value = 0\n",
    "for r in range(nr):\n",
    "    # Fronteras\n",
    "    frontera_est = ensamble_fronteras[r]\n",
    "    frontera_det = np.mean(frontera_est) * np.ones(nt)\n",
    "    # Solucion analitica de la realizacion\n",
    "    mu_frontera = np.mean(frontera_est) - 1.0\n",
    "    perfil_analitico = 1.0 + mu_frontera * (1.0 - x)\n",
    "    # Condicion inicial\n",
    "    variacion_inicial = condicion_inicial[r]\n",
    "    # Simulaciones\n",
    "    a_est, b_est, c_est, d_est, e_est = simulacion(frontera_est, perfil_analitico, variacion_inicial)\n",
    "    a_det, b_det, c_det, d_det, e_det = simulacion(frontera_det, perfil_analitico, variacion_inicial)\n",
    "    # Fluctuaciones\n",
    "    fluc_a[r] = fluctuacion(a_det, a_est)\n",
    "    fluc_b[r] = fluctuacion(b_det, b_est)\n",
    "    fluc_c[r] = fluctuacion(c_det, c_est)\n",
    "    fluc_d[r] = fluctuacion(d_det, d_est)\n",
    "    fluc_e[r] = fluctuacion(e_det, e_est)\n",
    "    # Series\n",
    "    serie_a[r] = a_det\n",
    "    serie_b[r] = b_det\n",
    "    serie_c[r] = c_det\n",
    "    serie_d[r] = d_det\n",
    "    serie_e[r] = e_det\n",
    "    # Progreso del trabajo\n",
    "    progreso.value = r + 1"
   ]
  },
  {
   "cell_type": "markdown",
   "id": "523210c6-f5ed-4b5b-bc2d-3eee4dca711b",
   "metadata": {
    "tags": []
   },
   "source": [
    "## Datos"
   ]
  },
  {
   "cell_type": "code",
   "execution_count": 16,
   "id": "f4901983-7aa7-41c0-becf-e18ca89fa3aa",
   "metadata": {},
   "outputs": [],
   "source": [
    "variables = [\"a\", \"b\", \"c\", \"d\", \"e\"]\n",
    "series = [serie_a, serie_b, serie_c, serie_d, serie_e]\n",
    "fluctuaciones = [fluc_a, fluc_b, fluc_c, fluc_d, fluc_e]\n",
    "\n",
    "datos_series = dict(zip(variables, series))\n",
    "datos_fluctuaciones = dict(zip(variables, fluctuaciones))"
   ]
  },
  {
   "cell_type": "markdown",
   "id": "414ed300-ed6f-4a50-a65d-187d2b95501a",
   "metadata": {
    "tags": []
   },
   "source": [
    "## Archivos"
   ]
  },
  {
   "cell_type": "code",
   "execution_count": 17,
   "id": "6c242eaf-f516-4a18-b3b6-3df379b260ac",
   "metadata": {},
   "outputs": [],
   "source": [
    "ruta = \"datos/experimentos_guyer/\"\n",
    "for d in datos_series.keys():\n",
    "    np.savetxt(ruta + \"serie_\" + d + \".csv\", datos_series[d], delimiter = \",\")\n",
    "    np.savetxt(ruta + \"fluctuacion_\" + d + \".csv\", datos_fluctuaciones[d], delimiter = \",\")"
   ]
  }
 ],
 "metadata": {
  "kernelspec": {
   "display_name": "Python 3 (ipykernel)",
   "language": "python",
   "name": "python3"
  },
  "language_info": {
   "codemirror_mode": {
    "name": "ipython",
    "version": 3
   },
   "file_extension": ".py",
   "mimetype": "text/x-python",
   "name": "python",
   "nbconvert_exporter": "python",
   "pygments_lexer": "ipython3",
   "version": "3.9.12"
  }
 },
 "nbformat": 4,
 "nbformat_minor": 5
}
